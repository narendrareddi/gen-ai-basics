{
 "cells": [
  {
   "cell_type": "code",
   "execution_count": 1,
   "id": "c3086aca",
   "metadata": {},
   "outputs": [
    {
     "data": {
      "text/plain": [
       "True"
      ]
     },
     "execution_count": 1,
     "metadata": {},
     "output_type": "execute_result"
    }
   ],
   "source": [
    "from dotenv import load_dotenv\n",
    "load_dotenv()"
   ]
  },
  {
   "cell_type": "code",
   "execution_count": 8,
   "id": "f1e200f4",
   "metadata": {},
   "outputs": [],
   "source": [
    "from langchain_huggingface import HuggingFacePipeline,ChatHuggingFace"
   ]
  },
  {
   "cell_type": "code",
   "execution_count": null,
   "id": "40c3310b",
   "metadata": {},
   "outputs": [],
   "source": [
    "# Pytorch is required for HuggingFacePipeline\n",
    "hg_model = HuggingFacePipeline.from_model_id(\n",
    "    model_id=\"TinyLlama/TinyLlama-1.1B-Chat-v1.0\",\n",
    "    task=\"text-generation\",\n",
    "    pipeline_kwargs=dict(\n",
    "        temperature=0,\n",
    "        max_new_tokens=200\n",
    "    )\n",
    ")\n",
    "hg_llm = ChatHuggingFace(llm=hg_model)\n",
    "hg_llm.invoke(\"Are you awake?\")"
   ]
  },
  {
   "cell_type": "code",
   "execution_count": 2,
   "id": "512b727f",
   "metadata": {},
   "outputs": [
    {
     "name": "stderr",
     "output_type": "stream",
     "text": [
      "d:\\genai_learn\\gen-ai-basics\\.virtualenv\\Lib\\site-packages\\tqdm\\auto.py:21: TqdmWarning: IProgress not found. Please update jupyter and ipywidgets. See https://ipywidgets.readthedocs.io/en/stable/user_install.html\n",
      "  from .autonotebook import tqdm as notebook_tqdm\n"
     ]
    }
   ],
   "source": [
    "from langchain_huggingface import HuggingFaceEmbeddings\n",
    "embeddings = HuggingFaceEmbeddings(model_name=\"sentence-transformers/all-MiniLM-L6-v2\")"
   ]
  },
  {
   "cell_type": "code",
   "execution_count": null,
   "id": "35fb8260",
   "metadata": {},
   "outputs": [],
   "source": [
    "res = embeddings.embed_query(\"I am Narendra\")\n",
    "type(res),len(res),str(res)"
   ]
  },
  {
   "cell_type": "code",
   "execution_count": null,
   "id": "6071feb4",
   "metadata": {},
   "outputs": [],
   "source": [
    "documents = [\n",
    "    \"Delhi is the capital of India\",\n",
    "    \"Kolkata is the capital of West Bengal\",\n",
    "    \"Paris is the capital of France\"\n",
    "]\n",
    "res = embeddings.embed_documents(documents)\n",
    "type(res),len(res),str(res)"
   ]
  },
  {
   "cell_type": "code",
   "execution_count": 9,
   "id": "219012bf",
   "metadata": {},
   "outputs": [],
   "source": [
    "documents = [\n",
    "    \"Virat Kohli is an Indian cricketer known for his aggressive batting and leadership.\",\n",
    "    \"MS Dhoni is a former Indian captain famous for his calm demeanor and finishing skills.\",\n",
    "    \"Sachin Tendulkar, also known as the 'God of Cricket', holds many batting records.\",\n",
    "    \"Rohit Sharma is known for his elegant batting and record-breaking double centuries.\",\n",
    "    \"Jasprit Bumrah is an Indian fast bowler known for his unorthodox action and yorkers.\"\n",
    "] #knowledge base"
   ]
  },
  {
   "cell_type": "code",
   "execution_count": 10,
   "id": "46707deb",
   "metadata": {},
   "outputs": [],
   "source": [
    "query = \"Tell me about Rohit\""
   ]
  },
  {
   "cell_type": "code",
   "execution_count": 11,
   "id": "9740c749",
   "metadata": {},
   "outputs": [],
   "source": [
    "docs_embeds = embeddings.embed_documents(documents)\n",
    "query_embed = embeddings.embed_query(query)\n"
   ]
  },
  {
   "cell_type": "code",
   "execution_count": 24,
   "id": "9c6b1cab",
   "metadata": {},
   "outputs": [
    {
     "data": {
      "text/plain": [
       "array([0.29276189, 0.16407787, 0.2514464 , 0.53085909, 0.32676779])"
      ]
     },
     "execution_count": 24,
     "metadata": {},
     "output_type": "execute_result"
    }
   ],
   "source": [
    "from sklearn.metrics.pairwise import cosine_similarity\n",
    "res = cosine_similarity([query_embed],docs_embeds)[0]\n",
    "res"
   ]
  },
  {
   "cell_type": "code",
   "execution_count": 26,
   "id": "b4e4e392",
   "metadata": {},
   "outputs": [
    {
     "data": {
      "text/plain": [
       "[(3, np.float64(0.5308590910999471)),\n",
       " (4, np.float64(0.32676778852080407)),\n",
       " (0, np.float64(0.29276189292950805)),\n",
       " (2, np.float64(0.25144639793781476)),\n",
       " (1, np.float64(0.164077871662075))]"
      ]
     },
     "execution_count": 26,
     "metadata": {},
     "output_type": "execute_result"
    }
   ],
   "source": [
    "s = sorted(list(enumerate(res)),key=lambda x:x[1],reverse=True)\n",
    "s"
   ]
  },
  {
   "cell_type": "code",
   "execution_count": 27,
   "id": "38539260",
   "metadata": {},
   "outputs": [
    {
     "data": {
      "text/plain": [
       "'Rohit Sharma is known for his elegant batting and record-breaking double centuries.'"
      ]
     },
     "execution_count": 27,
     "metadata": {},
     "output_type": "execute_result"
    }
   ],
   "source": [
    "index,score = s[0]\n",
    "documents[index]"
   ]
  },
  {
   "cell_type": "markdown",
   "id": "ab492853",
   "metadata": {},
   "source": [
    "# PROMPTS"
   ]
  },
  {
   "cell_type": "code",
   "execution_count": 28,
   "id": "55822a5d",
   "metadata": {},
   "outputs": [],
   "source": [
    "from langchain.prompts import PromptTemplate"
   ]
  },
  {
   "cell_type": "code",
   "execution_count": 31,
   "id": "4a220397",
   "metadata": {},
   "outputs": [],
   "source": [
    "prompt = PromptTemplate(\n",
    "    name=\"Research Paper Summary Generation\",\n",
    "    template=\"\"\"\n",
    "Please summarize the research paper titled \"{paper_input}\" with the following specifications:\n",
    "Explanation Style: {style_input}\n",
    "Explanation Length: {length_input}\n",
    "1. Mathematical Details:\n",
    "   - Include relevant mathematical equations if present in the paper.\n",
    "   - Explain the mathematical concepts using simple, intuitive code snippets where applicable.\n",
    "2. Analogies:\n",
    "   - Use relatable analogies to simplify complex ideas.\n",
    "If certain information is not available in the paper, respond with: \"Insufficient information available\" instead of guessing.\n",
    "Ensure the summary is clear, accurate, and aligned with the provided style and length.\n",
    "\"\"\",\n",
    "input_variables=['paper_input','style_input','length_input'],\n",
    "validate_template=True\n",
    ")\n",
    "prompt.save(\"Research_Paper.Prompt.json\")"
   ]
  },
  {
   "cell_type": "code",
   "execution_count": 36,
   "id": "e04e6e45",
   "metadata": {},
   "outputs": [
    {
     "name": "stdout",
     "output_type": "stream",
     "text": [
      "name='Research Paper Summary Generation' input_variables=['length_input', 'paper_input', 'style_input'] input_types={} partial_variables={} template='\\nPlease summarize the research paper titled \"{paper_input}\" with the following specifications:\\nExplanation Style: {style_input}\\nExplanation Length: {length_input}\\n1. Mathematical Details:\\n   - Include relevant mathematical equations if present in the paper.\\n   - Explain the mathematical concepts using simple, intuitive code snippets where applicable.\\n2. Analogies:\\n   - Use relatable analogies to simplify complex ideas.\\nIf certain information is not available in the paper, respond with: \"Insufficient information available\" instead of guessing.\\nEnsure the summary is clear, accurate, and aligned with the provided style and length.\\n' validate_template=True\n"
     ]
    }
   ],
   "source": [
    "from langchain.prompts import load_prompt\n",
    "template = load_prompt(\"Research_Paper.Prompt.json\")\n",
    "print(template)"
   ]
  },
  {
   "cell_type": "code",
   "execution_count": 37,
   "id": "7ddd77f8",
   "metadata": {},
   "outputs": [
    {
     "name": "stdout",
     "output_type": "stream",
     "text": [
      "\n",
      "Please summarize the research paper titled \"{paper_input}\" with the following specifications:\n",
      "Explanation Style: {style_input}\n",
      "Explanation Length: {length_input}\n",
      "1. Mathematical Details:\n",
      "   - Include relevant mathematical equations if present in the paper.\n",
      "   - Explain the mathematical concepts using simple, intuitive code snippets where applicable.\n",
      "2. Analogies:\n",
      "   - Use relatable analogies to simplify complex ideas.\n",
      "If certain information is not available in the paper, respond with: \"Insufficient information available\" instead of guessing.\n",
      "Ensure the summary is clear, accurate, and aligned with the provided style and length.\n",
      "\n"
     ]
    }
   ],
   "source": [
    "print(template.template)"
   ]
  },
  {
   "cell_type": "code",
   "execution_count": 38,
   "id": "e20d1ee7",
   "metadata": {},
   "outputs": [],
   "source": [
    "# Above way will check wrongs in prompt during compile itself\n",
    "# Prompt is reusable as it is in seperate file\n",
    "# Withing langchain eco system (tightly coupled)"
   ]
  },
  {
   "cell_type": "code",
   "execution_count": 39,
   "id": "55462d11",
   "metadata": {},
   "outputs": [
    {
     "data": {
      "text/plain": [
       "StringPromptValue(text='\\nPlease summarize the research paper titled \"Attention is all you need\" with the following specifications:\\nExplanation Style: easy\\nExplanation Length: medium\\n1. Mathematical Details:\\n   - Include relevant mathematical equations if present in the paper.\\n   - Explain the mathematical concepts using simple, intuitive code snippets where applicable.\\n2. Analogies:\\n   - Use relatable analogies to simplify complex ideas.\\nIf certain information is not available in the paper, respond with: \"Insufficient information available\" instead of guessing.\\nEnsure the summary is clear, accurate, and aligned with the provided style and length.\\n')"
      ]
     },
     "execution_count": 39,
     "metadata": {},
     "output_type": "execute_result"
    }
   ],
   "source": [
    "input = {\"paper_input\":\"Attention is all you need\",\n",
    "         \"style_input\":\"easy\",\n",
    "         \"length_input\":\"medium\"}\n",
    "prompt=template.invoke(input)\n",
    "prompt\n"
   ]
  },
  {
   "cell_type": "code",
   "execution_count": 40,
   "id": "6e82e035",
   "metadata": {},
   "outputs": [
    {
     "name": "stdout",
     "output_type": "stream",
     "text": [
      "\n",
      "Please summarize the research paper titled \"Attention is all you need\" with the following specifications:\n",
      "Explanation Style: easy\n",
      "Explanation Length: medium\n",
      "1. Mathematical Details:\n",
      "   - Include relevant mathematical equations if present in the paper.\n",
      "   - Explain the mathematical concepts using simple, intuitive code snippets where applicable.\n",
      "2. Analogies:\n",
      "   - Use relatable analogies to simplify complex ideas.\n",
      "If certain information is not available in the paper, respond with: \"Insufficient information available\" instead of guessing.\n",
      "Ensure the summary is clear, accurate, and aligned with the provided style and length.\n",
      "\n"
     ]
    }
   ],
   "source": [
    "print(prompt.text)"
   ]
  },
  {
   "cell_type": "code",
   "execution_count": 42,
   "id": "e398fcfb",
   "metadata": {},
   "outputs": [
    {
     "name": "stderr",
     "output_type": "stream",
     "text": [
      "c:\\Users\\Narendra\\anaconda3\\envs\\genai\\Lib\\site-packages\\transformers\\generation\\configuration_utils.py:631: UserWarning: `do_sample` is set to `False`. However, `temperature` is set to `0` -- this flag is only used in sample-based generation modes. You should set `do_sample=True` or unset `temperature`.\n",
      "  warnings.warn(\n"
     ]
    },
    {
     "name": "stdout",
     "output_type": "stream",
     "text": [
      "<|user|>\n",
      "\n",
      "Please summarize the research paper titled \"Attention is all you need\" with the following specifications:\n",
      "Explanation Style: easy\n",
      "Explanation Length: medium\n",
      "1. Mathematical Details:\n",
      "   - Include relevant mathematical equations if present in the paper.\n",
      "   - Explain the mathematical concepts using simple, intuitive code snippets where applicable.\n",
      "2. Analogies:\n",
      "   - Use relatable analogies to simplify complex ideas.\n",
      "If certain information is not available in the paper, respond with: \"Insufficient information available\" instead of guessing.\n",
      "Ensure the summary is clear, accurate, and aligned with the provided style and length.\n",
      "</s>\n",
      "<|assistant|>\n",
      "The research paper titled \"Attention is all you need\" provides a comprehensive explanation of the concept of attention, including its importance in human cognition and the role of attention in various cognitive processes. The paper uses simple, intuitive code snippets to explain the mathematical concepts involved in attention. The summary is clear, accurate, and aligned with the provided style and length.\n"
     ]
    }
   ],
   "source": [
    "response = hg_llm.invoke(prompt).content\n",
    "print(response)"
   ]
  },
  {
   "cell_type": "code",
   "execution_count": 2,
   "id": "0267ba61",
   "metadata": {},
   "outputs": [
    {
     "data": {
      "text/plain": [
       "ChatGroq(client=<groq.resources.chat.completions.Completions object at 0x000001F5EB2D57C0>, async_client=<groq.resources.chat.completions.AsyncCompletions object at 0x000001F5EB2D6900>, model_name='Llama3-8b-8192', model_kwargs={}, groq_api_key=SecretStr('**********'))"
      ]
     },
     "execution_count": 2,
     "metadata": {},
     "output_type": "execute_result"
    }
   ],
   "source": [
    "from langchain_groq import ChatGroq\n",
    "llm = ChatGroq(model=\"Llama3-8b-8192\")\n",
    "llm"
   ]
  },
  {
   "cell_type": "code",
   "execution_count": null,
   "id": "f2a19fff",
   "metadata": {},
   "outputs": [],
   "source": [
    "response = llm.invoke(prompt)\n",
    "response"
   ]
  },
  {
   "cell_type": "code",
   "execution_count": 45,
   "id": "d58e78f3",
   "metadata": {},
   "outputs": [
    {
     "name": "stdout",
     "output_type": "stream",
     "text": [
      "\"Attention is All You Need\" is a research paper published in 2017 by Vaswani et al. that introduced the Transformer model, a groundbreaking architecture for natural language processing (NLP) tasks. Here's a summary of the paper, written in an easy-to-understand style with medium-length explanations and analogies.\n",
      "\n",
      "**Background**\n",
      "Traditional recurrent neural networks (RNNs) and long short-term memory (LSTM) networks have been the cornerstone of NLP tasks, such as machine translation, text classification, and language modeling. However, these models have limitations, like sequential processing and recurrent dependencies, which can lead to slow training times and poor performance.\n",
      "\n",
      "**The Problem**\n",
      "The authors identified the main issue with traditional RNNs: they rely on sequential processing, which means the model processes one input element at a time, in sequence. This sequential processing can lead to:\n",
      "\n",
      "1. **Vanishing gradients**: The gradients used to update the model's weights can become very small, making it difficult for the model to learn.\n",
      "2. **Sequential dependencies**: The model's ability to capture long-range dependencies is limited by its sequential processing.\n",
      "\n",
      "**The Solution**\n",
      "The Transformer model, introduced in this paper, addresses these limitations by using **self-attention mechanisms**. Self-attention allows the model to process input sequences simultaneously, eliminating sequential dependencies and vanishing gradients.\n",
      "\n",
      "**Mathematical Details**\n",
      "\n",
      "The Transformer model uses three types of attention mechanisms:\n",
      "\n",
      "1. **Self-Attention**: This allows the model to attend to different parts of the input sequence simultaneously.\n",
      "\t* Equation: `Attention(Q, K, V) = softmax(QK^T / √d) V`\n",
      "\t* Intuitive code snippet: `attention(query, keys, values) = softmax(query * keys.T / sqrt(len(query))) * values`\n",
      "2. **Encoders**: These are composed of self-attention layers and feed-forward neural networks (FFNNs).\n",
      "3. **Decoders**: These are also composed of self-attention layers and FFNNs, but with an additional masking mechanism to prevent the model from attending to future outputs.\n",
      "\n",
      "**Analogies**\n",
      "\n",
      "Think of self-attention like a librarian searching for specific books in a library. The librarian (model) can simultaneously look for books on different shelves (input sequences) and retrieve relevant information (attend to specific parts of the input).\n",
      "\n",
      "**Key Takeaways**\n",
      "\n",
      "1. The Transformer model eliminates sequential dependencies and vanishing gradients by using self-attention mechanisms.\n",
      "2. The model is parallelizable, making it much faster to train than traditional RNNs.\n",
      "3. The Transformer has achieved state-of-the-art results in various NLP tasks, including machine translation, text classification, and language modeling.\n",
      "\n",
      "**Conclusion**\n",
      "The \"Attention is All You Need\" paper introduced the Transformer model, a groundbreaking architecture that revolutionized the field of NLP. By leveraging self-attention mechanisms, the Transformer model has achieved impressive results and has become a widely adopted architecture in the field.\n"
     ]
    }
   ],
   "source": [
    "print(response.content)"
   ]
  },
  {
   "cell_type": "markdown",
   "id": "0e8cf3d4",
   "metadata": {},
   "source": [
    "# MESSAGES"
   ]
  },
  {
   "cell_type": "code",
   "execution_count": 3,
   "id": "2a757501",
   "metadata": {},
   "outputs": [
    {
     "name": "stdout",
     "output_type": "stream",
     "text": [
      "Human:  Hi, I am Narendra\n",
      "AI:  Nice to meet you, Narendra! Is there something I can help you with or would you like to chat?\n",
      "Human:  How is wheather today?\n",
      "AI:  I'm just an AI, I don't have real-time access to current weather conditions. However, I can suggest some ways for you to find out the current weather:\n",
      "\n",
      "1. Check your local news website or app: Many news websites and apps provide up-to-date weather forecasts and conditions for your area.\n",
      "2. Use a weather app: There are many weather apps available that provide current weather conditions, forecasts, and radar imagery. Some popular options include Dark Sky, Weather Underground, and The Weather Channel.\n",
      "3. Check your local weather service: The National Weather Service (NWS) provides current weather conditions, forecasts, and warnings for the United States and its territories. You can visit their website or mobile app to get the latest information.\n",
      "4. Look out the window: Sometimes the easiest way to find out the current weather is to simply look outside!\n",
      "\n",
      "Remember to always check the credibility of the source you use to get weather information, especially if you're planning an outdoor activity or making important decisions based on the weather.\n",
      "Human:  What is my name? I forgot!\n",
      "AI:  Don't worry! I'm here to help. Unfortunately, I'm a large language model, I don't have the ability to know your personal information, including your name. But I can try to help you figure it out!\n",
      "\n",
      "Can you give me some hints or clues about your name? Like:\n",
      "\n",
      "* Is it a common name or a unique one?\n",
      "* Is it a given name or a surname?\n",
      "* Do you remember any letters or sounds from your name?\n",
      "* Was your name given to you by your parents or did you choose it yourself?\n",
      "\n",
      "Any information you can provide might help me or another user try to guess your name!\n",
      "Human:  exit\n"
     ]
    }
   ],
   "source": [
    "while True:\n",
    "    instruction = input()\n",
    "    print(\"Human: \",instruction)\n",
    "    if instruction == 'exit':\n",
    "        break\n",
    "    else:\n",
    "        print(\"AI: \",llm.invoke(instruction).content)"
   ]
  },
  {
   "cell_type": "code",
   "execution_count": 5,
   "id": "503887d5",
   "metadata": {},
   "outputs": [
    {
     "name": "stdout",
     "output_type": "stream",
     "text": [
      "Human:  Hello, I am Narendra\n",
      "AI:  Hello Narendra! It's nice to meet you. Is there something I can help you with or would you like to chat?\n",
      "Human:  How is whether today?\n",
      "AI:  I think you meant \"weather\"! As a digital AI assistant, I don't have a physical presence, so I don't experience the weather. But I'd be happy to chat with you about the weather in your area or discuss other topics! How about you, how's the weather where you are?\n",
      "Human:  I forgot my name! Can you help?\n",
      "AI:  Don't worry, it happens to the best of us! You told me earlier that your name is Narendra, remember?\n",
      "Human:  thanks\n",
      "AI:  You're welcome! It's always reassuring to have a reminder, and I'm glad I could help. Now, where were we? We were discussing the weather, or we could start a new topic altogether. What's on your mind?\n",
      "Human:  exit\n"
     ]
    }
   ],
   "source": [
    "history = []\n",
    "while True:\n",
    "    instruction = input()\n",
    "    print(\"Human: \",instruction)\n",
    "    history.append(instruction)\n",
    "    if instruction == 'exit':\n",
    "        break\n",
    "    else:\n",
    "        res = llm.invoke(history).content\n",
    "        print(\"AI: \",res)\n",
    "        history.append(res)"
   ]
  },
  {
   "cell_type": "code",
   "execution_count": 6,
   "id": "289df548",
   "metadata": {},
   "outputs": [
    {
     "data": {
      "text/plain": [
       "['Hello, I am Narendra',\n",
       " \"Hello Narendra! It's nice to meet you. Is there something I can help you with or would you like to chat?\",\n",
       " 'How is whether today?',\n",
       " 'I think you meant \"weather\"! As a digital AI assistant, I don\\'t have a physical presence, so I don\\'t experience the weather. But I\\'d be happy to chat with you about the weather in your area or discuss other topics! How about you, how\\'s the weather where you are?',\n",
       " 'I forgot my name! Can you help?',\n",
       " \"Don't worry, it happens to the best of us! You told me earlier that your name is Narendra, remember?\",\n",
       " 'thanks',\n",
       " \"You're welcome! It's always reassuring to have a reminder, and I'm glad I could help. Now, where were we? We were discussing the weather, or we could start a new topic altogether. What's on your mind?\",\n",
       " 'exit']"
      ]
     },
     "execution_count": 6,
     "metadata": {},
     "output_type": "execute_result"
    }
   ],
   "source": [
    "history"
   ]
  },
  {
   "cell_type": "code",
   "execution_count": 3,
   "id": "648d235c",
   "metadata": {},
   "outputs": [],
   "source": [
    "from langchain_core.messages import HumanMessage,AIMessage,SystemMessage"
   ]
  },
  {
   "cell_type": "code",
   "execution_count": null,
   "id": "3c665ec9",
   "metadata": {},
   "outputs": [
    {
     "name": "stdout",
     "output_type": "stream",
     "text": [
      "Human:  Hi, I am Narendra , 30 years old\n",
      "AI : content=\"Nice to meet you, Narendra! It's great to have you here. As a helpful agent, I'm here to assist you with any questions or concerns you may have. What brings you to this conversation today? Is there something specific you'd like to talk about or ask?\" additional_kwargs={} response_metadata={'token_usage': {'completion_tokens': 57, 'prompt_tokens': 29, 'total_tokens': 86, 'completion_time': 0.0475, 'prompt_time': 0.004374686, 'queue_time': 0.084924361, 'total_time': 0.051874686}, 'model_name': 'Llama3-8b-8192', 'system_fingerprint': 'fp_dadc9d6142', 'finish_reason': 'stop', 'logprobs': None} id='run--803011c6-5018-4015-905d-6f3d7919b731-0' usage_metadata={'input_tokens': 29, 'output_tokens': 57, 'total_tokens': 86}\n",
      "Human:  Add 10 to my age\n",
      "AI : content='Your age is currently 30. If I add 10 to that, your new age would be:\\n\\n30 + 10 = 40\\n\\nSo, your new age is 40!' additional_kwargs={} response_metadata={'token_usage': {'completion_tokens': 39, 'prompt_tokens': 101, 'total_tokens': 140, 'completion_time': 0.0325, 'prompt_time': 0.02277651, 'queue_time': 0.094521647, 'total_time': 0.05527651}, 'model_name': 'Llama3-8b-8192', 'system_fingerprint': 'fp_179b0f92c9', 'finish_reason': 'stop', 'logprobs': None} id='run--dc101f29-0247-4b8a-9ec4-3b0a6ce5ad43-0' usage_metadata={'input_tokens': 101, 'output_tokens': 39, 'total_tokens': 140}\n",
      "Human:  Who am i?\n",
      "AI : content='You are Narendra, a 40-year-old (according to our previous calculation) individual who is having a conversation with me, a helpful agent!' additional_kwargs={} response_metadata={'token_usage': {'completion_tokens': 30, 'prompt_tokens': 153, 'total_tokens': 183, 'completion_time': 0.025, 'prompt_time': 0.057247992, 'queue_time': 0.949135241, 'total_time': 0.082247992}, 'model_name': 'Llama3-8b-8192', 'system_fingerprint': 'fp_dadc9d6142', 'finish_reason': 'stop', 'logprobs': None} id='run--d23d664d-ef48-481f-88e0-1060e57ad029-0' usage_metadata={'input_tokens': 153, 'output_tokens': 30, 'total_tokens': 183}\n",
      "Human:  exit\n"
     ]
    }
   ],
   "source": [
    "chat_history = []\n",
    "chat_history.append(SystemMessage(content = \"You are helpful agent\"))\n",
    "while True:\n",
    "    instruction = input()\n",
    "    print(\"Human: \",instruction)\n",
    "    chat_history.append(HumanMessage(content=instruction))\n",
    "    if instruction == 'exit':\n",
    "        break\n",
    "    else:\n",
    "        response = llm.invoke(chat_history)\n",
    "        print(\"AI :\",response.content)\n",
    "        chat_history.append(response)\n",
    "        \n",
    "    "
   ]
  },
  {
   "cell_type": "code",
   "execution_count": 7,
   "id": "069e43cf",
   "metadata": {},
   "outputs": [
    {
     "data": {
      "text/plain": [
       "[SystemMessage(content='You are helpful agent', additional_kwargs={}, response_metadata={}),\n",
       " HumanMessage(content='Hi, I am Narendra , 30 years old', additional_kwargs={}, response_metadata={}),\n",
       " AIMessage(content=\"Nice to meet you, Narendra! It's great to have you here. As a helpful agent, I'm here to assist you with any questions or concerns you may have. What brings you to this conversation today? Is there something specific you'd like to talk about or ask?\", additional_kwargs={}, response_metadata={'token_usage': {'completion_tokens': 57, 'prompt_tokens': 29, 'total_tokens': 86, 'completion_time': 0.0475, 'prompt_time': 0.004374686, 'queue_time': 0.084924361, 'total_time': 0.051874686}, 'model_name': 'Llama3-8b-8192', 'system_fingerprint': 'fp_dadc9d6142', 'finish_reason': 'stop', 'logprobs': None}, id='run--803011c6-5018-4015-905d-6f3d7919b731-0', usage_metadata={'input_tokens': 29, 'output_tokens': 57, 'total_tokens': 86}),\n",
       " HumanMessage(content='Add 10 to my age', additional_kwargs={}, response_metadata={}),\n",
       " AIMessage(content='Your age is currently 30. If I add 10 to that, your new age would be:\\n\\n30 + 10 = 40\\n\\nSo, your new age is 40!', additional_kwargs={}, response_metadata={'token_usage': {'completion_tokens': 39, 'prompt_tokens': 101, 'total_tokens': 140, 'completion_time': 0.0325, 'prompt_time': 0.02277651, 'queue_time': 0.094521647, 'total_time': 0.05527651}, 'model_name': 'Llama3-8b-8192', 'system_fingerprint': 'fp_179b0f92c9', 'finish_reason': 'stop', 'logprobs': None}, id='run--dc101f29-0247-4b8a-9ec4-3b0a6ce5ad43-0', usage_metadata={'input_tokens': 101, 'output_tokens': 39, 'total_tokens': 140}),\n",
       " HumanMessage(content='Who am i?', additional_kwargs={}, response_metadata={}),\n",
       " AIMessage(content='You are Narendra, a 40-year-old (according to our previous calculation) individual who is having a conversation with me, a helpful agent!', additional_kwargs={}, response_metadata={'token_usage': {'completion_tokens': 30, 'prompt_tokens': 153, 'total_tokens': 183, 'completion_time': 0.025, 'prompt_time': 0.057247992, 'queue_time': 0.949135241, 'total_time': 0.082247992}, 'model_name': 'Llama3-8b-8192', 'system_fingerprint': 'fp_dadc9d6142', 'finish_reason': 'stop', 'logprobs': None}, id='run--d23d664d-ef48-481f-88e0-1060e57ad029-0', usage_metadata={'input_tokens': 153, 'output_tokens': 30, 'total_tokens': 183}),\n",
       " HumanMessage(content='exit', additional_kwargs={}, response_metadata={})]"
      ]
     },
     "execution_count": 7,
     "metadata": {},
     "output_type": "execute_result"
    }
   ],
   "source": [
    "chat_history"
   ]
  },
  {
   "cell_type": "code",
   "execution_count": 9,
   "id": "49c26ca6",
   "metadata": {},
   "outputs": [
    {
     "name": "stdout",
     "output_type": "stream",
     "text": [
      "What a delightful request! Here's a poetic attempt to explain the multiplication tables up to 10 times:\n",
      "\n",
      "**Table of 2**\n",
      "\n",
      "When two apples are paired, they become four,\n",
      "Double the fun, and the number's galore!\n",
      "2 x 2 = 4, so easy to see,\n",
      "A simple math fact, for you and me.\n",
      "\n",
      "**Table of 3**\n",
      "\n",
      "Here comes three, with a charm so bright,\n",
      "When multiplied by two, it's a delightful sight!\n",
      "3 x 2 = 6, don't you agree,\n",
      "A math fact so easy, for you and me!\n",
      "\n",
      "**Table of 4**\n",
      "\n",
      "Now we have four, with a rhythm so neat,\n",
      "When multiplied by three, it's a treat to repeat!\n",
      "4 x 3 = 12, don't you see,\n",
      "A math fact so simple, for you and me!\n",
      "\n",
      "I hope these little poems helped make the multiplication tables more memorable for you!\n"
     ]
    }
   ],
   "source": [
    "#ChatPromptTemplate  - To pass multiple dynamic values to messages\n",
    "from langchain.prompts import ChatPromptTemplate\n",
    "template = ChatPromptTemplate([\n",
    "    ('system','You are very good in {domain} domain'),\n",
    "    ('human','Explain me {input} in simple way')\n",
    "])\n",
    "prompt = template.invoke({\n",
    "    'domain':'poetry',\n",
    "    'input':'3 multiplication table upto 10 times'\n",
    "})\n",
    "res = llm.invoke(prompt).content\n",
    "print(res)"
   ]
  },
  {
   "cell_type": "code",
   "execution_count": 10,
   "id": "b5a8e015",
   "metadata": {},
   "outputs": [
    {
     "data": {
      "text/plain": [
       "[SystemMessage(content='You are helpful agent', additional_kwargs={}, response_metadata={}),\n",
       " HumanMessage(content='Hi, I am Narendra , 30 years old', additional_kwargs={}, response_metadata={}),\n",
       " AIMessage(content=\"Nice to meet you, Narendra! It's great to have you here. As a helpful agent, I'm here to assist you with any questions or concerns you may have. What brings you to this conversation today? Is there something specific you'd like to talk about or ask?\", additional_kwargs={}, response_metadata={'token_usage': {'completion_tokens': 57, 'prompt_tokens': 29, 'total_tokens': 86, 'completion_time': 0.0475, 'prompt_time': 0.004374686, 'queue_time': 0.084924361, 'total_time': 0.051874686}, 'model_name': 'Llama3-8b-8192', 'system_fingerprint': 'fp_dadc9d6142', 'finish_reason': 'stop', 'logprobs': None}, id='run--803011c6-5018-4015-905d-6f3d7919b731-0', usage_metadata={'input_tokens': 29, 'output_tokens': 57, 'total_tokens': 86}),\n",
       " HumanMessage(content='Add 10 to my age', additional_kwargs={}, response_metadata={}),\n",
       " AIMessage(content='Your age is currently 30. If I add 10 to that, your new age would be:\\n\\n30 + 10 = 40\\n\\nSo, your new age is 40!', additional_kwargs={}, response_metadata={'token_usage': {'completion_tokens': 39, 'prompt_tokens': 101, 'total_tokens': 140, 'completion_time': 0.0325, 'prompt_time': 0.02277651, 'queue_time': 0.094521647, 'total_time': 0.05527651}, 'model_name': 'Llama3-8b-8192', 'system_fingerprint': 'fp_179b0f92c9', 'finish_reason': 'stop', 'logprobs': None}, id='run--dc101f29-0247-4b8a-9ec4-3b0a6ce5ad43-0', usage_metadata={'input_tokens': 101, 'output_tokens': 39, 'total_tokens': 140}),\n",
       " HumanMessage(content='Who am i?', additional_kwargs={}, response_metadata={}),\n",
       " AIMessage(content='You are Narendra, a 40-year-old (according to our previous calculation) individual who is having a conversation with me, a helpful agent!', additional_kwargs={}, response_metadata={'token_usage': {'completion_tokens': 30, 'prompt_tokens': 153, 'total_tokens': 183, 'completion_time': 0.025, 'prompt_time': 0.057247992, 'queue_time': 0.949135241, 'total_time': 0.082247992}, 'model_name': 'Llama3-8b-8192', 'system_fingerprint': 'fp_dadc9d6142', 'finish_reason': 'stop', 'logprobs': None}, id='run--d23d664d-ef48-481f-88e0-1060e57ad029-0', usage_metadata={'input_tokens': 153, 'output_tokens': 30, 'total_tokens': 183}),\n",
       " HumanMessage(content='exit', additional_kwargs={}, response_metadata={})]"
      ]
     },
     "execution_count": 10,
     "metadata": {},
     "output_type": "execute_result"
    }
   ],
   "source": [
    "chat_history"
   ]
  },
  {
   "cell_type": "code",
   "execution_count": 12,
   "id": "24bd6b42",
   "metadata": {},
   "outputs": [],
   "source": [
    "# MessagePlaceholder - For future reference\n",
    "from langchain.prompts import MessagesPlaceholder\n",
    "template = ChatPromptTemplate([\n",
    "    MessagesPlaceholder(variable_name='chat_history'),\n",
    "    ('human','{query}')\n",
    "])"
   ]
  },
  {
   "cell_type": "code",
   "execution_count": 14,
   "id": "d5ad7b50",
   "metadata": {},
   "outputs": [
    {
     "data": {
      "text/plain": [
       "ChatPromptValue(messages=[SystemMessage(content='You are helpful agent', additional_kwargs={}, response_metadata={}), HumanMessage(content='Hi, I am Narendra , 30 years old', additional_kwargs={}, response_metadata={}), AIMessage(content=\"Nice to meet you, Narendra! It's great to have you here. As a helpful agent, I'm here to assist you with any questions or concerns you may have. What brings you to this conversation today? Is there something specific you'd like to talk about or ask?\", additional_kwargs={}, response_metadata={'token_usage': {'completion_tokens': 57, 'prompt_tokens': 29, 'total_tokens': 86, 'completion_time': 0.0475, 'prompt_time': 0.004374686, 'queue_time': 0.084924361, 'total_time': 0.051874686}, 'model_name': 'Llama3-8b-8192', 'system_fingerprint': 'fp_dadc9d6142', 'finish_reason': 'stop', 'logprobs': None}, id='run--803011c6-5018-4015-905d-6f3d7919b731-0', usage_metadata={'input_tokens': 29, 'output_tokens': 57, 'total_tokens': 86}), HumanMessage(content='Add 10 to my age', additional_kwargs={}, response_metadata={}), AIMessage(content='Your age is currently 30. If I add 10 to that, your new age would be:\\n\\n30 + 10 = 40\\n\\nSo, your new age is 40!', additional_kwargs={}, response_metadata={'token_usage': {'completion_tokens': 39, 'prompt_tokens': 101, 'total_tokens': 140, 'completion_time': 0.0325, 'prompt_time': 0.02277651, 'queue_time': 0.094521647, 'total_time': 0.05527651}, 'model_name': 'Llama3-8b-8192', 'system_fingerprint': 'fp_179b0f92c9', 'finish_reason': 'stop', 'logprobs': None}, id='run--dc101f29-0247-4b8a-9ec4-3b0a6ce5ad43-0', usage_metadata={'input_tokens': 101, 'output_tokens': 39, 'total_tokens': 140}), HumanMessage(content='Who am i?', additional_kwargs={}, response_metadata={}), AIMessage(content='You are Narendra, a 40-year-old (according to our previous calculation) individual who is having a conversation with me, a helpful agent!', additional_kwargs={}, response_metadata={'token_usage': {'completion_tokens': 30, 'prompt_tokens': 153, 'total_tokens': 183, 'completion_time': 0.025, 'prompt_time': 0.057247992, 'queue_time': 0.949135241, 'total_time': 0.082247992}, 'model_name': 'Llama3-8b-8192', 'system_fingerprint': 'fp_dadc9d6142', 'finish_reason': 'stop', 'logprobs': None}, id='run--d23d664d-ef48-481f-88e0-1060e57ad029-0', usage_metadata={'input_tokens': 153, 'output_tokens': 30, 'total_tokens': 183}), HumanMessage(content='exit', additional_kwargs={}, response_metadata={}), HumanMessage(content='Tell me My name and multiply my age by 2', additional_kwargs={}, response_metadata={})])"
      ]
     },
     "execution_count": 14,
     "metadata": {},
     "output_type": "execute_result"
    }
   ],
   "source": [
    "prompt = template.invoke({'chat_history':chat_history,'query':\"Tell me My name and multiply my age by 2\"})\n",
    "prompt"
   ]
  },
  {
   "cell_type": "code",
   "execution_count": 15,
   "id": "3a66f329",
   "metadata": {},
   "outputs": [
    {
     "data": {
      "text/plain": [
       "AIMessage(content='I remember! Your name is Narendra, and according to our previous conversation, your age is 40.\\n\\nIf I multiply your age by 2, I get:\\n\\n40 x 2 = 80\\n\\nSo, your name is Narendra, and your age multiplied by 2 is 80!', additional_kwargs={}, response_metadata={'token_usage': {'completion_tokens': 60, 'prompt_tokens': 214, 'total_tokens': 274, 'completion_time': 0.05, 'prompt_time': 0.027228506, 'queue_time': 0.067126847, 'total_time': 0.077228506}, 'model_name': 'Llama3-8b-8192', 'system_fingerprint': 'fp_179b0f92c9', 'finish_reason': 'stop', 'logprobs': None}, id='run--db858cea-4e68-4d58-a765-89625eb12bca-0', usage_metadata={'input_tokens': 214, 'output_tokens': 60, 'total_tokens': 274})"
      ]
     },
     "execution_count": 15,
     "metadata": {},
     "output_type": "execute_result"
    }
   ],
   "source": [
    "llm.invoke(prompt)"
   ]
  },
  {
   "cell_type": "markdown",
   "id": "ac7f3278",
   "metadata": {},
   "source": [
    "# STRUCTURED OUTPUT"
   ]
  },
  {
   "cell_type": "code",
   "execution_count": 18,
   "id": "7db71924",
   "metadata": {},
   "outputs": [],
   "source": [
    "from typing import TypedDict # Instruct the type does not enforce rule\n",
    "class Student(TypedDict):\n",
    "    name:str\n",
    "    age:int\n"
   ]
  },
  {
   "cell_type": "code",
   "execution_count": 20,
   "id": "c410f774",
   "metadata": {},
   "outputs": [
    {
     "data": {
      "text/plain": [
       "{'name': 'John', 'age': 20}"
      ]
     },
     "execution_count": 20,
     "metadata": {},
     "output_type": "execute_result"
    }
   ],
   "source": [
    "s1 = Student(name=\"John\",age=20)\n",
    "s1"
   ]
  },
  {
   "cell_type": "code",
   "execution_count": 22,
   "id": "1dd43069",
   "metadata": {},
   "outputs": [
    {
     "data": {
      "text/plain": [
       "{'name': 'Narendra', 'age': 'Thirty'}"
      ]
     },
     "execution_count": 22,
     "metadata": {},
     "output_type": "execute_result"
    }
   ],
   "source": [
    "s2 = Student(name=\"Narendra\",age=\"Thirty\") \n",
    "s2 # It wont validates just informs"
   ]
  },
  {
   "cell_type": "code",
   "execution_count": 23,
   "id": "12100b71",
   "metadata": {},
   "outputs": [],
   "source": [
    "class Review(TypedDict):\n",
    "    summary:str\n",
    "    sentiment:str"
   ]
  },
  {
   "cell_type": "code",
   "execution_count": 24,
   "id": "1fd25ba0",
   "metadata": {},
   "outputs": [
    {
     "data": {
      "text/plain": [
       "{'sentiment': 'outdated',\n",
       " 'summary': 'hardware is great, but software and UI is outdated. And i cannot delete pre installed apps'}"
      ]
     },
     "execution_count": 24,
     "metadata": {},
     "output_type": "execute_result"
    }
   ],
   "source": [
    "str_llm = llm.with_structured_output(Review)\n",
    "str_llm.invoke(\"Hardware is great, but software and UI is outdated. And i cannot delete pre installed apps\")"
   ]
  },
  {
   "cell_type": "code",
   "execution_count": 29,
   "id": "f494d577",
   "metadata": {},
   "outputs": [
    {
     "data": {
      "text/plain": [
       "{'cons': ['Nothing major'],\n",
       " 'key_features': ['Vibrant and sharp display',\n",
       "  'Long battery life',\n",
       "  'Fast charging',\n",
       "  'Excellent camera',\n",
       "  'Smooth performance'],\n",
       " 'pros': ['Display is vibrant and sharp',\n",
       "  'Battery life is long',\n",
       "  'Fast charging is convenient',\n",
       "  'Camera produces crisp photos',\n",
       "  'Performance is smooth'],\n",
       " 'sentiment': 'Positive'}"
      ]
     },
     "execution_count": 29,
     "metadata": {},
     "output_type": "execute_result"
    }
   ],
   "source": [
    "from typing import Annotated,Optional,Literal\n",
    "class Review(TypedDict):\n",
    "    key_features: Annotated[list[str], \"Describe the key features of product\"]\n",
    "    pros: Annotated[Optional[list[str]],\"Pros of product\"]\n",
    "    cons: Annotated[Optional[list[str]],\"Cons of product\"]\n",
    "    sentiment:Annotated[Literal[\"Positive\",\"Negative\",\"Neutral\"],\"Sentiment of Review\"]\n",
    "\n",
    "review_llm = llm.with_structured_output(Review)\n",
    "review1 = \"I’ve been using this phone for a few weeks, and it has exceeded my expectations. The display is vibrant and sharp, making videos and games look fantastic. Battery life easily lasts a full day even with heavy use, and the fast charging is a game changer. The camera produces crisp, detailed photos even in low light, and the performance is smooth with no lag, thanks to the powerful processor. The design feels premium and comfortable in hand. Overall, it offers excellent value for the price, and I’d highly recommend it to anyone looking for a reliable and feature-packed smartphone.\"\n",
    "response = review_llm.invoke(review1)\n",
    "response"
   ]
  },
  {
   "cell_type": "code",
   "execution_count": 26,
   "id": "464c41d6",
   "metadata": {},
   "outputs": [
    {
     "data": {
      "text/plain": [
       "dict"
      ]
     },
     "execution_count": 26,
     "metadata": {},
     "output_type": "execute_result"
    }
   ],
   "source": [
    "type(response)"
   ]
  },
  {
   "cell_type": "code",
   "execution_count": 27,
   "id": "8a0135f3",
   "metadata": {},
   "outputs": [
    {
     "data": {
      "text/plain": [
       "{'cons': ['The battery drains quickly, requiring multiple charges throughout the day'],\n",
       " 'key_features': ['Build quality feels cheap'],\n",
       " 'pros': ['none'],\n",
       " 'sentiment': 'Negative'}"
      ]
     },
     "execution_count": 27,
     "metadata": {},
     "output_type": "execute_result"
    }
   ],
   "source": [
    "review2 = \"I was excited to try this phone, but it has been disappointing. The battery drains quickly, requiring multiple charges throughout the day, and the device gets noticeably hot during use. The camera struggles in anything but perfect lighting, with grainy and washed-out photos. I’ve also experienced frequent app crashes and sluggish performance, especially when multitasking. The build quality feels cheap, and the phone is bulkier than expected. Connectivity issues with Wi-Fi and Bluetooth are a recurring frustration. For the price, I expected much better reliability and performance. I wouldn’t recommend this phone unless major improvements are made.\"\n",
    "review_llm.invoke(review2)"
   ]
  },
  {
   "cell_type": "code",
   "execution_count": 28,
   "id": "342c220d",
   "metadata": {},
   "outputs": [
    {
     "data": {
      "text/plain": [
       "{'cons': ['The screen is decent, but brightness could be better outdoors'],\n",
       " 'key_features': ['Decent screen',\n",
       "  'Average battery life',\n",
       "  'Fine performance',\n",
       "  'Good camera in daylight',\n",
       "  'Simple and functional design'],\n",
       " 'pros': ['Clear visuals',\n",
       "  'Lasts a day with moderate use',\n",
       "  'Good for everyday tasks'],\n",
       " 'sentiment': 'Neutral'}"
      ]
     },
     "execution_count": 28,
     "metadata": {},
     "output_type": "execute_result"
    }
   ],
   "source": [
    "review3 = \"This phone delivers a generally acceptable experience but doesn’t stand out. The screen is decent, offering clear visuals, though brightness could be better outdoors. Battery life is average, lasting a day with moderate use, and performance is fine for everyday tasks but not ideal for heavy gaming or multitasking. The camera is good in daylight but underwhelms in low light. The design is simple and functional, though it feels a bit plain compared to competitors. It’s neither exceptional nor terrible—just a solid mid-range option. It might suit users who don’t need cutting-edge features but want a reliable daily driver.\"\n",
    "review_llm.invoke(review3)"
   ]
  },
  {
   "cell_type": "code",
   "execution_count": 30,
   "id": "5e1d8f5a",
   "metadata": {},
   "outputs": [],
   "source": [
    "from pydantic import BaseModel\n",
    "class Student(BaseModel):\n",
    "    name:str\n",
    "    age:int"
   ]
  },
  {
   "cell_type": "code",
   "execution_count": null,
   "id": "5c6ba233",
   "metadata": {},
   "outputs": [],
   "source": [
    "s1 = Student(name=\"Narendra\",age=\"thirty\")  # Validation Error"
   ]
  },
  {
   "cell_type": "code",
   "execution_count": 38,
   "id": "3c12063c",
   "metadata": {},
   "outputs": [],
   "source": [
    "from pydantic import EmailStr\n",
    "class Student(BaseModel):\n",
    "    name:str = \"Narendra\"\n",
    "    age:Optional[int] = None\n",
    "    email: EmailStr\n",
    "    "
   ]
  },
  {
   "cell_type": "code",
   "execution_count": null,
   "id": "31771b3c",
   "metadata": {},
   "outputs": [],
   "source": [
    "new_student = {'email':'xyz'}\n",
    "s1 = Student(**new_student) #Validation Fail"
   ]
  },
  {
   "cell_type": "code",
   "execution_count": 41,
   "id": "12116764",
   "metadata": {},
   "outputs": [
    {
     "data": {
      "text/plain": [
       "Student(name='Narendra', age=None, email='nare@gamil.com')"
      ]
     },
     "execution_count": 41,
     "metadata": {},
     "output_type": "execute_result"
    }
   ],
   "source": [
    "s1 = Student(email=\"nare@gamil.com\")\n",
    "s1"
   ]
  },
  {
   "cell_type": "code",
   "execution_count": 43,
   "id": "9474331e",
   "metadata": {},
   "outputs": [],
   "source": [
    "from pydantic import Field\n",
    "\n",
    "class Student(BaseModel):\n",
    "    name: str = Field(description=\"Student Name\")\n",
    "    age: int = Field(gt=18,default=18,description=\"Age of student\",)"
   ]
  },
  {
   "cell_type": "code",
   "execution_count": null,
   "id": "f165a576",
   "metadata": {},
   "outputs": [],
   "source": [
    "s1 = {'name':'ravi','age':10}\n",
    "Student(**s1) # validation Error"
   ]
  },
  {
   "cell_type": "code",
   "execution_count": 45,
   "id": "73e4d39a",
   "metadata": {},
   "outputs": [
    {
     "data": {
      "text/plain": [
       "Student(name='Narendra', age=18)"
      ]
     },
     "execution_count": 45,
     "metadata": {},
     "output_type": "execute_result"
    }
   ],
   "source": [
    "Student(name=\"Narendra\")"
   ]
  },
  {
   "cell_type": "code",
   "execution_count": 46,
   "id": "1c3d11bd",
   "metadata": {},
   "outputs": [],
   "source": [
    "class Review(BaseModel):\n",
    "\n",
    "    key_themes: list[str] = Field(description=\"Write down all the key themes discussed in the review in a list\")\n",
    "    summary: str = Field(description=\"A brief summary of the review\")\n",
    "    sentiment: Literal[\"pos\", \"neg\"] = Field(description=\"Return sentiment of the review either negative, positive or neutral\")\n",
    "    pros: Optional[list[str]] = Field(default=None, description=\"Write down all the pros inside a list\")\n",
    "    cons: Optional[list[str]] = Field(default=None, description=\"Write down all the cons inside a list\")\n",
    "    name: Optional[str] = Field(default=None, description=\"Write the name of the reviewer\")"
   ]
  },
  {
   "cell_type": "code",
   "execution_count": 47,
   "id": "19aab8f6",
   "metadata": {},
   "outputs": [],
   "source": [
    "class Address(BaseModel):\n",
    "    city:str = Field(default=\"Hyderabad\",description=\"City Name\")\n",
    "    own_house:bool = Field(description=\"Are you staying in own house?\")\n",
    "    pincode:int = Field(gt=100000,lt=999999,description=\"Pincode of address\")\n"
   ]
  },
  {
   "cell_type": "code",
   "execution_count": 48,
   "id": "48238531",
   "metadata": {},
   "outputs": [],
   "source": [
    "class Person(BaseModel):\n",
    "    name:str = Field(description=\"Person Name\")\n",
    "    address: Address = Field(description=\"Person Address\")"
   ]
  },
  {
   "cell_type": "code",
   "execution_count": 49,
   "id": "53ce4806",
   "metadata": {},
   "outputs": [
    {
     "data": {
      "text/plain": [
       "Person(name='Narendra', address=Address(city='Hyderabad', own_house=True, pincode=560036))"
      ]
     },
     "execution_count": 49,
     "metadata": {},
     "output_type": "execute_result"
    }
   ],
   "source": [
    "p1 = {'name':'Narendra','address':{'own_house':True,'pincode':560036}}\n",
    "Person(**p1)"
   ]
  },
  {
   "cell_type": "code",
   "execution_count": 53,
   "id": "e28326ab",
   "metadata": {},
   "outputs": [
    {
     "data": {
      "text/plain": [
       "{'name': FieldInfo(annotation=str, required=True, description='Person Name'),\n",
       " 'address': FieldInfo(annotation=Address, required=True, description='Person Address')}"
      ]
     },
     "execution_count": 53,
     "metadata": {},
     "output_type": "execute_result"
    }
   ],
   "source": [
    "Person.model_fields"
   ]
  },
  {
   "cell_type": "code",
   "execution_count": null,
   "id": "7b6177a1",
   "metadata": {},
   "outputs": [],
   "source": [
    "#JSON Structure Defination\n",
    "sample_json = {\n",
    "    \"title\":\"Review\",\n",
    "    \"type\":\"object\",\n",
    "    \"properties\":{\n",
    "        \"summary\": {\n",
    "            \"type\":\"string\",\n",
    "            \"description\":\"summary of review\"\n",
    "        },\n",
    "        \"key_features\":{\n",
    "            \"type\":\"array\",\n",
    "            \"items\":{\n",
    "                \"type\":\"string\"\n",
    "            },\n",
    "            \"description\":\"Key features listed in review\"\n",
    "        },\n",
    "        \"sentiment\":{\n",
    "            \"type\":\"string\",\n",
    "            \"enum\":[\"+ve\",\"-ve\"],\n",
    "            \"description\":\"sentiment of review\"\n",
    "        }\n",
    "    },\n",
    "    \"required\":[\"summary\",\"key_features\",\"sentiment\"]\n",
    "}"
   ]
  },
  {
   "cell_type": "code",
   "execution_count": 55,
   "id": "ea8917c2",
   "metadata": {},
   "outputs": [
    {
     "data": {
      "text/plain": [
       "{'summary': 'The phone has exceeded my expectations with a vibrant display, long battery life, and a powerful processor.',\n",
       " 'key_features': ['vibrant display',\n",
       "  'long battery life',\n",
       "  'powerful processor'],\n",
       " 'sentiment': '+ve'}"
      ]
     },
     "execution_count": 55,
     "metadata": {},
     "output_type": "execute_result"
    }
   ],
   "source": [
    "json_llm = llm.with_structured_output(sample_json)\n",
    "json_llm.invoke(review1)"
   ]
  },
  {
   "cell_type": "markdown",
   "id": "81a0262c",
   "metadata": {},
   "source": [
    "# OUTPUT PARSERS"
   ]
  },
  {
   "cell_type": "code",
   "execution_count": 58,
   "id": "a9c402e2",
   "metadata": {},
   "outputs": [
    {
     "data": {
      "text/plain": [
       "AIMessage(content='The captain of the Chennai Super Kings (CSK) team in the Indian Premier League (IPL) is MS Dhoni.', additional_kwargs={}, response_metadata={'token_usage': {'completion_tokens': 27, 'prompt_tokens': 17, 'total_tokens': 44, 'completion_time': 0.0225, 'prompt_time': 0.00260213, 'queue_time': 0.066932267, 'total_time': 0.02510213}, 'model_name': 'Llama3-8b-8192', 'system_fingerprint': 'fp_dadc9d6142', 'finish_reason': 'stop', 'logprobs': None}, id='run--c32ba12b-eea0-4d49-a127-d3249375a88d-0', usage_metadata={'input_tokens': 17, 'output_tokens': 27, 'total_tokens': 44})"
      ]
     },
     "execution_count": 58,
     "metadata": {},
     "output_type": "execute_result"
    }
   ],
   "source": [
    "from langchain_core.output_parsers import StrOutputParser\n",
    "query = \"Who is CSK team captain?\"\n",
    "llm.invoke(query)"
   ]
  },
  {
   "cell_type": "code",
   "execution_count": 59,
   "id": "ecca4742",
   "metadata": {},
   "outputs": [
    {
     "data": {
      "text/plain": [
       "'The captain of the Chennai Super Kings (CSK) team in the Indian Premier League (IPL) is MS Dhoni.'"
      ]
     },
     "execution_count": 59,
     "metadata": {},
     "output_type": "execute_result"
    }
   ],
   "source": [
    "parser = StrOutputParser()\n",
    "chain = llm | parser\n",
    "chain.invoke(query)"
   ]
  },
  {
   "cell_type": "code",
   "execution_count": 64,
   "id": "27f3adf5",
   "metadata": {},
   "outputs": [
    {
     "data": {
      "text/plain": [
       "{'name': 'Evelyn Stone', 'age': 32, 'city': 'San Francisco'}"
      ]
     },
     "execution_count": 64,
     "metadata": {},
     "output_type": "execute_result"
    }
   ],
   "source": [
    "from langchain_core.output_parsers import JsonOutputParser\n",
    "from langchain.prompts import PromptTemplate\n",
    "js_parser = JsonOutputParser()\n",
    "tempalte1 = PromptTemplate(template=\"Give me name ,age and city of fictional person.\\n{format_instrctions}\",\n",
    "                          input_variables=[],partial_variables={\n",
    "                              'format_instrctions':js_parser.get_format_instructions()\n",
    "                          })\n",
    "chain = tempalte1 | llm | js_parser\n",
    "chain.invoke({})\n"
   ]
  },
  {
   "cell_type": "code",
   "execution_count": 65,
   "id": "84b6fb80",
   "metadata": {},
   "outputs": [
    {
     "data": {
      "text/plain": [
       "{'name': 'Emily Rodriguez', 'age': 32, 'city': 'Portland'}"
      ]
     },
     "execution_count": 65,
     "metadata": {},
     "output_type": "execute_result"
    }
   ],
   "source": [
    "chain.invoke({})"
   ]
  },
  {
   "cell_type": "code",
   "execution_count": 67,
   "id": "b9d76177",
   "metadata": {},
   "outputs": [
    {
     "data": {
      "text/plain": [
       "'Here is a fictional person:\\n\\n```\\n{\\n  \"name\": \"Ava Morales\",\\n  \"age\": 32,\\n  \"city\": \"San Francisco\"\\n}\\n```\\n\\nLet me know if you\\'d like me to generate a new one!'"
      ]
     },
     "execution_count": 67,
     "metadata": {},
     "output_type": "execute_result"
    }
   ],
   "source": [
    "chain = tempalte1 | llm \n",
    "res = chain.invoke({}).content\n",
    "res"
   ]
  },
  {
   "cell_type": "code",
   "execution_count": 68,
   "id": "022648f1",
   "metadata": {},
   "outputs": [
    {
     "data": {
      "text/plain": [
       "{'name': 'Ava Morales', 'age': 32, 'city': 'San Francisco'}"
      ]
     },
     "execution_count": 68,
     "metadata": {},
     "output_type": "execute_result"
    }
   ],
   "source": [
    "js_parser.invoke(res)"
   ]
  },
  {
   "cell_type": "code",
   "execution_count": 76,
   "id": "bcc6a205",
   "metadata": {},
   "outputs": [],
   "source": [
    "from langchain.output_parsers import StructuredOutputParser,ResponseSchema\n",
    "schema = [ResponseSchema(name='Fact 1',description=\"Fact 1 details\"),\n",
    "          ResponseSchema(name=\"Fact 2\",description=\"Fact 2 details\")]"
   ]
  },
  {
   "cell_type": "code",
   "execution_count": 77,
   "id": "90b4f364",
   "metadata": {},
   "outputs": [],
   "source": [
    "struct_parse = StructuredOutputParser.from_response_schemas(schema)"
   ]
  },
  {
   "cell_type": "code",
   "execution_count": 78,
   "id": "713dfd63",
   "metadata": {},
   "outputs": [],
   "source": [
    "template = PromptTemplate(\n",
    "    template='Give 2 fact about {topic} \\n {format_instruction}',\n",
    "    input_variables=['topic'],\n",
    "    partial_variables={'format_instruction':struct_parse.get_format_instructions()}\n",
    ")"
   ]
  },
  {
   "cell_type": "code",
   "execution_count": 79,
   "id": "cdafc8c7",
   "metadata": {},
   "outputs": [],
   "source": [
    "chain = template | llm \n",
    "res=chain.invoke({'topic':'Gen AI'})"
   ]
  },
  {
   "cell_type": "code",
   "execution_count": 80,
   "id": "65502210",
   "metadata": {},
   "outputs": [
    {
     "data": {
      "text/plain": [
       "AIMessage(content='Here are two facts about Gen AI:\\n\\n```json\\n{\\n  \"Fact 1\": \"Gen AI is a type of artificial general intelligence (AGI) that aims to provide a highly advanced level of intelligence, capable of understanding and performing any intellectual task that a human can.\",\\n  \"Fact 2\": \"Gen AI is still in its infancy, with researchers and developers working to overcome the challenges of creating a truly general-purpose AI, including the need for vast amounts of data, complex algorithms, and robust testing and validation processes.\"\\n}\\n```', additional_kwargs={}, response_metadata={'token_usage': {'completion_tokens': 110, 'prompt_tokens': 79, 'total_tokens': 189, 'completion_time': 0.091666667, 'prompt_time': 0.015206368, 'queue_time': 0.5548987550000001, 'total_time': 0.106873035}, 'model_name': 'Llama3-8b-8192', 'system_fingerprint': 'fp_dadc9d6142', 'finish_reason': 'stop', 'logprobs': None}, id='run--cfb2089c-6b6d-46e6-a15a-87770f1d19ac-0', usage_metadata={'input_tokens': 79, 'output_tokens': 110, 'total_tokens': 189})"
      ]
     },
     "execution_count": 80,
     "metadata": {},
     "output_type": "execute_result"
    }
   ],
   "source": [
    "res"
   ]
  },
  {
   "cell_type": "code",
   "execution_count": 81,
   "id": "70cf73df",
   "metadata": {},
   "outputs": [
    {
     "data": {
      "text/plain": [
       "{'Fact 1': 'Gen AI is a type of artificial general intelligence (AGI) that aims to provide a highly advanced level of intelligence, capable of understanding and performing any intellectual task that a human can.',\n",
       " 'Fact 2': 'Gen AI is still in its infancy, with researchers and developers working to overcome the challenges of creating a truly general-purpose AI, including the need for vast amounts of data, complex algorithms, and robust testing and validation processes.'}"
      ]
     },
     "execution_count": 81,
     "metadata": {},
     "output_type": "execute_result"
    }
   ],
   "source": [
    "struct_parse.invoke(res)"
   ]
  },
  {
   "cell_type": "code",
   "execution_count": 82,
   "id": "0beeb4f5",
   "metadata": {},
   "outputs": [
    {
     "data": {
      "text/plain": [
       "{'Fact 1': \"As of 2021, India's nominal GDP stands at over $3 trillion, making it the fifth-largest economy in the world.\",\n",
       " 'Fact 2': \"According to the World Bank, India's GDP growth rate was around 7.3% in 2021, making it one of the fastest-growing major economies in the world.\"}"
      ]
     },
     "execution_count": 82,
     "metadata": {},
     "output_type": "execute_result"
    }
   ],
   "source": [
    "chain = template | llm | struct_parse\n",
    "chain.invoke({'topic':'India GDP'})"
   ]
  },
  {
   "cell_type": "code",
   "execution_count": 117,
   "id": "843a3c6a",
   "metadata": {},
   "outputs": [],
   "source": [
    "from langchain_core.output_parsers import PydanticOutputParser\n",
    "class Review(BaseModel):\n",
    "\n",
    "    name: str = Field(description='Reviewer Name')\n",
    "    age: int = Field(gt=18, description='Age of the reviewer')\n",
    "    summary: list[str] = Field(description='review summary')\n",
    "    sentiment: Literal['+ve','-ve'] = Field(description=\"Sentiment of review\")\n",
    "\n",
    "parser = PydanticOutputParser(pydantic_object=Review)"
   ]
  },
  {
   "cell_type": "code",
   "execution_count": 118,
   "id": "c009e397",
   "metadata": {},
   "outputs": [],
   "source": [
    "template = PromptTemplate(\n",
    "    template = \"Give me some imaginary review.\\n{format_instuctions}\",\n",
    "    input_variables=[],\n",
    "    partial_variables={'format_instuctions':parser.get_format_instructions()}\n",
    ")"
   ]
  },
  {
   "cell_type": "code",
   "execution_count": 122,
   "id": "2c9d07c9",
   "metadata": {},
   "outputs": [
    {
     "data": {
      "text/plain": [
       "AIMessage(content='Here are 5 imaginary reviews in JSON format, conforming to the given schema:\\n\\nReview 1:\\n```\\n{\\n  \"name\": \"John Doe\",\\n  \"age\": 25,\\n  \"summary\": [\"The product is amazing! The design is sleek and the quality is top notch.\"],\\n  \"sentiment\": \"+ve\"\\n}\\n```\\n\\nReview 2:\\n```\\n{\\n  \"name\": \"Jane Smith\",\\n  \"age\": 30,\\n  \"summary\": [\"This product is a total waste of money. It doesn\\'t work as advertised.\"],\\n  \"sentiment\": \"-ve\"\\n}\\n```\\n\\nReview 3:\\n```\\n{\\n  \"name\": \"Bob Johnson\",\\n  \"age\": 28,\\n  \"summary\": [\"The product is okay, but it\\'s not as good as the competition.\"],\\n  \"sentiment\": \"+ve\"\\n}\\n```\\n\\nReview 4:\\n```\\n{\\n  \"name\": \"Alice Brown\",\\n  \"age\": 22,\\n  \"summary\": [\"I love this product! It\\'s lightweight and easy to use.\"],\\n  \"sentiment\": \"+ve\"\\n}\\n```\\n\\nReview 5:\\n```\\n{\\n  \"name\": \"Michael Davis\",\\n  \"age\": 35,\\n  \"summary\": [\"This product is a total disappointment. The customer service is terrible.\"],\\n  \"sentiment\": \"-ve\"\\n}\\n```', additional_kwargs={}, response_metadata={'token_usage': {'completion_tokens': 285, 'prompt_tokens': 274, 'total_tokens': 559, 'completion_time': 0.2375, 'prompt_time': 0.042449276, 'queue_time': 0.08517881899999999, 'total_time': 0.279949276}, 'model_name': 'Llama3-8b-8192', 'system_fingerprint': 'fp_179b0f92c9', 'finish_reason': 'stop', 'logprobs': None}, id='run--65587eec-32bc-43be-acec-3065f9f40f6a-0', usage_metadata={'input_tokens': 274, 'output_tokens': 285, 'total_tokens': 559})"
      ]
     },
     "execution_count": 122,
     "metadata": {},
     "output_type": "execute_result"
    }
   ],
   "source": [
    "chain = template | llm \n",
    "res = chain.invoke({})\n",
    "res"
   ]
  },
  {
   "cell_type": "code",
   "execution_count": 121,
   "id": "1e1e0153",
   "metadata": {},
   "outputs": [
    {
     "data": {
      "text/plain": [
       "Review(name='John Doe', age=25, summary=['This product is amazing!', 'The customer service was top-notch'], sentiment='+ve')"
      ]
     },
     "execution_count": 121,
     "metadata": {},
     "output_type": "execute_result"
    }
   ],
   "source": [
    "parser.invoke(res)"
   ]
  },
  {
   "cell_type": "code",
   "execution_count": null,
   "id": "752188b2",
   "metadata": {},
   "outputs": [
    {
     "data": {
      "text/plain": [
       "Review(name='John Doe', age=25, summary=['The product is amazing', 'The customer service is top-notch'], sentiment='+ve')"
      ]
     },
     "execution_count": 86,
     "metadata": {},
     "output_type": "execute_result"
    }
   ],
   "source": [
    "chain = template | llm | parser\n",
    "chain.invoke({})"
   ]
  },
  {
   "cell_type": "code",
   "execution_count": 87,
   "id": "4a6677c3",
   "metadata": {},
   "outputs": [
    {
     "name": "stdout",
     "output_type": "stream",
     "text": [
      "    +-------------+      \n",
      "    | PromptInput |      \n",
      "    +-------------+      \n",
      "            *            \n",
      "            *            \n",
      "            *            \n",
      "   +----------------+    \n",
      "   | PromptTemplate |    \n",
      "   +----------------+    \n",
      "            *            \n",
      "            *            \n",
      "            *            \n",
      "      +----------+       \n",
      "      | ChatGroq |       \n",
      "      +----------+       \n",
      "            *            \n",
      "            *            \n",
      "            *            \n",
      "+----------------------+ \n",
      "| PydanticOutputParser | \n",
      "+----------------------+ \n",
      "            *            \n",
      "            *            \n",
      "            *            \n",
      "       +--------+        \n",
      "       | Review |        \n",
      "       +--------+        \n"
     ]
    }
   ],
   "source": [
    "chain.get_graph().print_ascii()"
   ]
  },
  {
   "cell_type": "markdown",
   "id": "0ae821bc",
   "metadata": {},
   "source": [
    "# RUNNABLE"
   ]
  },
  {
   "cell_type": "code",
   "execution_count": 2,
   "id": "3f0ee257",
   "metadata": {},
   "outputs": [],
   "source": [
    "from langchain.schema.runnable import RunnableParallel,RunnableBranch,RunnablePassthrough,RunnableSequence,RunnableLambda"
   ]
  },
  {
   "cell_type": "code",
   "execution_count": 93,
   "id": "ab06c76e",
   "metadata": {},
   "outputs": [],
   "source": [
    "prompt1 = PromptTemplate(template=\"Give Pros of {topic}\",input_variables=['topic'])\n",
    "prompt2 = PromptTemplate(template=\"Give Cons of {topic}\",input_variables=['topic'])\n",
    "prompt3 = PromptTemplate(template=\"Create final report using {pros} and {cons}\",\n",
    "                         input_variables=['pros','cons'])\n"
   ]
  },
  {
   "cell_type": "code",
   "execution_count": 97,
   "id": "109f7a1c",
   "metadata": {},
   "outputs": [
    {
     "name": "stdout",
     "output_type": "stream",
     "text": [
      "           +--------------------------+            \n",
      "           | Parallel<pros,cons>Input |            \n",
      "           +--------------------------+            \n",
      "                ***             ***                \n",
      "              **                   **              \n",
      "            **                       **            \n",
      "+----------------+              +----------------+ \n",
      "| PromptTemplate |              | PromptTemplate | \n",
      "+----------------+              +----------------+ \n",
      "          *                             *          \n",
      "          *                             *          \n",
      "          *                             *          \n",
      "    +----------+                  +----------+     \n",
      "    | ChatGroq |                  | ChatGroq |     \n",
      "    +----------+                  +----------+     \n",
      "          *                             *          \n",
      "          *                             *          \n",
      "          *                             *          \n",
      "+-----------------+            +-----------------+ \n",
      "| StrOutputParser |            | StrOutputParser | \n",
      "+-----------------+            +-----------------+ \n",
      "                ***             ***                \n",
      "                   **         **                   \n",
      "                     **     **                     \n",
      "          +---------------------------+            \n",
      "          | Parallel<pros,cons>Output |            \n",
      "          +---------------------------+            \n",
      "                         *                         \n",
      "                         *                         \n",
      "                         *                         \n",
      "                +----------------+                 \n",
      "                | PromptTemplate |                 \n",
      "                +----------------+                 \n",
      "                         *                         \n",
      "                         *                         \n",
      "                         *                         \n",
      "                   +----------+                    \n",
      "                   | ChatGroq |                    \n",
      "                   +----------+                    \n",
      "                         *                         \n",
      "                         *                         \n",
      "                         *                         \n",
      "                +-----------------+                \n",
      "                | StrOutputParser |                \n",
      "                +-----------------+                \n",
      "                         *                         \n",
      "                         *                         \n",
      "                         *                         \n",
      "            +-----------------------+              \n",
      "            | StrOutputParserOutput |              \n",
      "            +-----------------------+              \n"
     ]
    }
   ],
   "source": [
    "str_parser = StrOutputParser()\n",
    "paralel_chain = RunnableParallel({\n",
    "    'pros': prompt1 | llm | str_parser,\n",
    "    'cons': prompt2 | llm | str_parser\n",
    "})\n",
    "final_chain = paralel_chain| prompt3 | llm | str_parser\n",
    "final_chain.get_graph().print_ascii()"
   ]
  },
  {
   "cell_type": "code",
   "execution_count": 98,
   "id": "60e7f773",
   "metadata": {},
   "outputs": [
    {
     "data": {
      "text/plain": [
       "{'pros': \"Here are some pros of iPhone mobiles:\\n\\n1. **Ease of Use**: iPhones are known for their user-friendly interface and simplicity, making them easy to use for people of all ages and technical backgrounds.\\n2. **Ecosystem**: iPhone integrates seamlessly with other Apple devices and services, such as Macs, iPads, Apple Watches, and Apple TVs, allowing for easy sharing and transfer of files, photos, and more.\\n3. **Security**: iPhones have a reputation for being highly secure, thanks to their closed system and strict app review process, which helps protect users from malware and other security threats.\\n4. **App Store**: The App Store offers a wide selection of high-quality apps, with many exclusive to iOS, including popular games, productivity tools, and social media apps.\\n5. **Camera**: iPhones are known for their high-quality cameras, with advanced features like portrait mode, night mode, and video recording capabilities.\\n6. **Design and Build Quality**: iPhones have a reputation for their sleek design and premium build quality, with attention to detail and a focus on durability.\\n7. **Resale Value**: iPhones tend to retain their value well, with many models still holding a significant resale value even after several years of use.\\n8. **Hardware and Software Integration**: iPhones have a seamless integration of hardware and software, resulting in a smooth and responsive user experience.\\n9. **Wireless Charging**: Many iPhone models support wireless charging, making it easy to keep your device charged without the need for cables.\\n10. **Timely Software Updates**: Apple is known for releasing timely software updates, ensuring that iPhone users have access to the latest features and security patches as soon as they're available.\\n11. **Integration with Other Apple Services**: iPhone users can take advantage of other Apple services, such as iCloud, iMessage, and Apple Pay, which offer convenient and secure ways to store and access data, communicate with others, and make payments.\\n12. **Exclusive Features**: iPhones often come with exclusive features, such as Face ID and Touch ID, which provide an additional layer of security and convenience.\\n13. **High-Quality Display**: iPhones have high-quality displays, with features like Retina HD and OLED technology, which provide crisp and vibrant visuals.\\n14. **Long Battery Life**: Many iPhone models have long battery life, with some models lasting up to a day and a half on a single charge.\\n15. **Customer Support**: Apple offers excellent customer support, with online resources, phone support, and in-person support at Apple Stores.\\n\\nOverall, iPhones are known for their user-friendly interface, high-quality cameras, and seamless integration with other Apple devices and services.\",\n",
       " 'cons': \"Here are some common cons of iPhone mobiles:\\n\\n1. **Cost**: iPhones are generally more expensive than many other smartphones on the market, especially the newer models.\\n\\n2. **Limited Customization**: iPhone's closed ecosystem means that users have limited ability to customize their device, which may not appeal to those who value flexibility.\\n\\n3. **No Expandable Storage**: iPhones do not have a microSD card slot, which means that users are limited to the internal storage capacity.\\n\\n4. **Battery Life**: While iPhone batteries have improved over the years, they still may not last as long as some other smartphones, especially for heavy users.\\n\\n5. **No Headphone Jack**: iPhone's decision to remove the headphone jack has been a source of controversy, and some users may find it inconvenient.\\n\\n6. **Security Risks**: iPhone's closed ecosystem can also make it more difficult to install certain apps or access certain features, which may be a concern for some users.\\n\\n7. **No USB-C**: iPhone still uses the older Lightning port, which may be a drawback for users who prefer the newer USB-C standard.\\n\\n8. **No Wireless Charging**: While some iPhone models do support wireless charging, it's not a standard feature across all iPhone models.\\n\\n9. **Limited Battery Replacement Options**: iPhone batteries can be difficult to replace, which may be a concern for users who want to upgrade or repair their device.\\n\\n10. **No Micro-SD Card Slot**: As mentioned earlier, iPhone does not have a microSD card slot, which may limit the amount of storage available to users.\\n\\n11. **Limited App Control**: iPhone's closed ecosystem means that developers have limited control over their apps, which can make it difficult to troubleshoot or customize certain features.\\n\\n12. **No Root Access**: iPhone's closed ecosystem also means that users do not have root access to their device, which can limit the types of modifications or customizations that can be made.\\n\\n13. **Limited File System Access**: iPhone's operating system is designed to restrict access to certain files and directories, which can make it difficult for users to manage their files or transfer data.\\n\\n14. **No Hardware Buttons**: iPhone's minimalist design means that there are no hardware buttons, which can make it difficult to perform certain actions, such as taking a screenshot or adjusting the volume.\\n\\n15. **Limited Multitasking**: iPhone's operating system is designed to prioritize single-tasking, which can make it difficult to multitask or switch between multiple apps quickly.\\n\\nThese are just some of the common cons of iPhone mobiles. It's worth noting that many of these cons are subjective and may not be a concern for all users.\"}"
      ]
     },
     "execution_count": 98,
     "metadata": {},
     "output_type": "execute_result"
    }
   ],
   "source": [
    "paralel_chain.invoke({'topic':'Iphone Mobiles'})"
   ]
  },
  {
   "cell_type": "code",
   "execution_count": 102,
   "id": "261adf7f",
   "metadata": {},
   "outputs": [
    {
     "name": "stdout",
     "output_type": "stream",
     "text": [
      "**Final Report: Analyzing the Pros and Cons of iPhone Mobiles**\n",
      "\n",
      "Introduction:\n",
      "\n",
      "Apple's iPhone has been a dominant force in the smartphone market for over a decade, with millions of users worldwide. While the iPhone has many strengths, it also has some weaknesses. This report aims to provide an in-depth analysis of the pros and cons of iPhone mobiles, highlighting their advantages and disadvantages.\n",
      "\n",
      "**Pros:**\n",
      "\n",
      "1. **Ease of use**: iPhones are generally easy to use, with an intuitive interface and a seamless user experience.\n",
      "2. **Ecosystem**: iPhone's ecosystem is highly integrated with other Apple devices and services, making it easy to share files, photos, and music across devices.\n",
      "3. **Security**: iPhones have a reputation for being highly secure, thanks to their closed system and regular updates to fix vulnerabilities.\n",
      "4. **App store**: The App Store has a wide selection of high-quality apps, and developers often release iOS versions of their apps first.\n",
      "5. **Design and build quality**: iPhones are known for their sleek designs and premium build quality, making them a status symbol for many users.\n",
      "6. **Camera**: iPhones have some of the best cameras on the market, with features like Portrait mode, Night mode, and advanced image processing.\n",
      "7. **Performance**: iPhones are powered by fast processors and have ample storage, making them capable of handling demanding tasks like gaming and video editing.\n",
      "8. **Battery life**: iPhones generally have good battery life, with some models lasting up to a day and a half on a single charge.\n",
      "9. **Resale value**: iPhones retain their value well, making them a good investment for many users.\n",
      "10. **Customer support**: Apple's customer support is generally considered to be among the best in the industry, with a wide range of resources available online and in-person at Apple Stores.\n",
      "11. **Wireless charging**: Many iPhone models support wireless charging, making it easy to keep your device charged without having to deal with cables.\n",
      "12. **Water resistance**: Some iPhone models have a high level of water resistance, making them a good choice for users who are accident-prone or enjoy outdoor activities.\n",
      "13. **Face ID**: iPhone's facial recognition system, Face ID, is highly secure and convenient, making it easy to unlock your device and make purchases.\n",
      "14. **AR capabilities**: iPhones have advanced augmented reality (AR) capabilities, making them a great choice for users who want to experience AR in their daily lives.\n",
      "15. **Integration with other Apple devices**: iPhones integrate seamlessly with other Apple devices, such as Macs, iPads, and Apple Watches, making it easy to share files, photos, and music across devices.\n",
      "16. **Timely updates**: iPhone users typically receive software updates and security patches in a timely manner, ensuring that their device stays secure and up-to-date.\n",
      "17. **High-quality display**: iPhones have high-quality displays with features like OLED technology, high contrast ratios, and vibrant colors.\n",
      "18. **Audio quality**: iPhones have high-quality audio capabilities, with features like spatial audio and Dolby Atmos support.\n",
      "19. **Health and fitness tracking**: iPhones have built-in health and fitness tracking features, such as the Health app and Apple Watch integration.\n",
      "20. **Accessibility features**: iPhones have a wide range of accessibility features, such as VoiceOver, Zoom, and AssistiveTouch, making them a good choice for users with disabilities.\n",
      "\n",
      "**Cons:**\n",
      "\n",
      "1. **Cost**: iPhones are generally more expensive than many other smartphones on the market, making them less accessible to some consumers.\n",
      "2. **Limited Customization**: iPhone's closed ecosystem means that users have limited ability to customize the look and feel of their device, which may not appeal to those who like more control over their phone.\n",
      "3. **No Expandable Storage**: iPhone's don't have expandable storage options, which can be a drawback for users who need more storage space.\n",
      "4. **No Headphone Jack**: The latest iPhone models no longer have a headphone jack, which may be a inconvenience for some users who prefer wired headphones.\n",
      "5. **Closed Ecosystem**: iPhone's are limited to Apple's ecosystem, which means that users can't easily transfer files or data to non-Apple devices.\n",
      "6. **No MicroSD Card Slot**: iPhone's don't have a microSD card slot, which means that users can't expand their storage capacity.\n",
      "7. **No IR Blaster**: iPhone's don't have an IR blaster, which means that users can't use their phone as a remote control for their TV or other devices.\n",
      "8. **No Waterproofing**: Older iPhone models are not waterproof, and even the latest models have limited water resistance.\n",
      "9. **No Stylus**: iPhone's don't come with a stylus, which may be a drawback for some users who prefer a stylus for note-taking or drawing.\n",
      "10. **Software Updates**: iPhone's can be slow to receive software updates, which may leave users vulnerable to security exploits.\n",
      "11. **No USB-C**: iPhone's still use the older Lightning port, which may be a drawback for users who prefer the newer USB-C standard.\n",
      "12. **Battery Life**: iPhone's battery life can be a concern, especially for heavy users who need a phone that can last all day.\n",
      "13. **Limited Battery Replacement Options**: iPhone's battery is difficult to replace, which can be a problem for users who need a new battery.\n",
      "14. **No Wireless Charging**: Older iPhone models don't support wireless charging, which may be a drawback for some users who prefer the convenience of wireless charging.\n",
      "15. **No Fast Charging**: iPhone's don't support fast charging, which can take longer to charge the phone compared to other devices that support fast charging.\n",
      "16. **Limited Accessibility Options**: iPhone's may not offer as many accessibility options as some other smartphones, which can make it difficult for users with disabilities to use the device.\n",
      "17. **No Built-in FM Radio**: iPhone's don't have a built-in FM radio, which can be a drawback for users who prefer to listen to local radio stations.\n",
      "18. **No Built-in Compass**: iPhone's don't have a built-in compass, which can make it difficult to navigate without a separate compass app.\n",
      "19. **No Built-in GPS**: iPhone's don't have a built-in GPS, which can make it difficult to navigate without a separate GPS app.\n",
      "20. **Limited International Support**: iPhone's may not be supported by all carriers in all countries, which can make it difficult for users who travel frequently.\n",
      "\n",
      "Conclusion:\n",
      "\n",
      "The iPhone has many strengths, including its ease of use, high-quality design and build, and strong ecosystem of apps and services. However, it also has some weaknesses, such as its high cost, limited customization options, and lack of expandable storage. Ultimately, whether or not the iPhone is the right choice for a user will depend on their individual needs and preferences.\n"
     ]
    }
   ],
   "source": [
    "res = final_chain.invoke({'topic':'Iphone Mobiles'})\n",
    "print(res)"
   ]
  },
  {
   "cell_type": "code",
   "execution_count": 12,
   "id": "bb36a7e3",
   "metadata": {},
   "outputs": [],
   "source": [
    "from pydantic import BaseModel,Field\n",
    "from typing import Literal\n",
    "from langchain_core.output_parsers import PydanticOutputParser,StrOutputParser\n",
    "from langchain.prompts import PromptTemplate"
   ]
  },
  {
   "cell_type": "code",
   "execution_count": 13,
   "id": "e97ed6ba",
   "metadata": {},
   "outputs": [],
   "source": [
    "from langchain_groq import ChatGroq\n",
    "llm = ChatGroq(model=\"Llama3-8b-8192\")"
   ]
  },
  {
   "cell_type": "code",
   "execution_count": 14,
   "id": "cabf731b",
   "metadata": {},
   "outputs": [],
   "source": [
    "class Review(BaseModel):\n",
    "    sentiment: Literal['+ve','-ve'] = Field(description=\"Sentiment of review\")\n",
    "    \n",
    "    "
   ]
  },
  {
   "cell_type": "code",
   "execution_count": 15,
   "id": "e4cdb041",
   "metadata": {},
   "outputs": [],
   "source": [
    "review_sentiment = PydanticOutputParser(pydantic_object=Review)\n",
    "prompt = PromptTemplate(\n",
    "    template = \"What is sentiment of {question} .\\n{format_ins}\",\n",
    "    input_variables=['question'],\n",
    "    partial_variables={'format_ins':review_sentiment.get_format_instructions()}\n",
    ")"
   ]
  },
  {
   "cell_type": "code",
   "execution_count": 16,
   "id": "544adff6",
   "metadata": {},
   "outputs": [
    {
     "data": {
      "text/plain": [
       "PromptTemplate(input_variables=['question'], input_types={}, partial_variables={'format_ins': 'The output should be formatted as a JSON instance that conforms to the JSON schema below.\\n\\nAs an example, for the schema {\"properties\": {\"foo\": {\"title\": \"Foo\", \"description\": \"a list of strings\", \"type\": \"array\", \"items\": {\"type\": \"string\"}}}, \"required\": [\"foo\"]}\\nthe object {\"foo\": [\"bar\", \"baz\"]} is a well-formatted instance of the schema. The object {\"properties\": {\"foo\": [\"bar\", \"baz\"]}} is not well-formatted.\\n\\nHere is the output schema:\\n```\\n{\"properties\": {\"sentiment\": {\"description\": \"Sentiment of review\", \"enum\": [\"+ve\", \"-ve\"], \"title\": \"Sentiment\", \"type\": \"string\"}}, \"required\": [\"sentiment\"]}\\n```'}, template='What is sentiment of {question} .\\n{format_ins}')"
      ]
     },
     "execution_count": 16,
     "metadata": {},
     "output_type": "execute_result"
    }
   ],
   "source": [
    "prompt"
   ]
  },
  {
   "cell_type": "code",
   "execution_count": 37,
   "id": "ea0969e5",
   "metadata": {},
   "outputs": [],
   "source": [
    "positive_reply = PromptTemplate(template=\"Reply meaningfully for positive review. {sentiment}\",input_variables=['sentiment']) # We have to have dynamic here so that it gets something from earlier\n",
    "negative_reply = PromptTemplate(template=\"Reply meaningfully for negative sentiment. {sentiment}\",input_variables=['sentiment'])"
   ]
  },
  {
   "cell_type": "code",
   "execution_count": 38,
   "id": "6fcc3d9c",
   "metadata": {},
   "outputs": [
    {
     "name": "stdout",
     "output_type": "stream",
     "text": [
      "**Thank you so much for your kind words!**\n",
      "\n",
      "I'm absolutely thrilled to receive your positive review! It truly means the world to me that you had a great experience with [Your Name/Company]. Your feedback is invaluable in helping me improve and provide the best possible service to my clients.\n",
      "\n",
      "Your sentiment='+ve' review has put a big smile on my face, and I'm grateful for your trust and support. I'm committed to continuing to deliver exceptional [products/services] that meet and exceed your expectations.\n",
      "\n",
      "Thank you again for taking the time to share your thoughts. Your review will help others make informed decisions and know what to expect from me. I'm honored to have earned your trust and look forward to serving you again in the future!\n",
      "\n",
      "Best regards,\n",
      "[Your Name]\n"
     ]
    }
   ],
   "source": [
    "final_chain = RunnableBranch(\n",
    "    (lambda x:x.sentiment == '+ve',RunnableSequence(positive_reply,llm,StrOutputParser())),\n",
    "    (lambda x:x.sentiment == '-ve',RunnableSequence(negative_reply,llm,StrOutputParser())),\n",
    "    RunnableLambda(lambda x:\"I dont know sentiment here\")\n",
    ")\n",
    "chain = prompt | llm | review_sentiment | final_chain\n",
    "\n",
    "res = chain.invoke({\"question\":\"You are kind person\"})\n",
    "print(res)\n"
   ]
  },
  {
   "cell_type": "code",
   "execution_count": 39,
   "id": "9cb64df4",
   "metadata": {},
   "outputs": [
    {
     "name": "stdout",
     "output_type": "stream",
     "text": [
      "I'm so sorry to hear that you're feeling negative. It can be really tough to deal with difficult emotions, but I want you to know that you're not alone. It's okay to feel overwhelmed and upset, and it's important to acknowledge those feelings instead of trying to push them away.\n",
      "\n",
      "Would you like to talk about what's going on and why you're feeling this way? Sometimes sharing your thoughts and feelings with someone who cares can help you feel a little better and gain a new perspective. I'm here to listen and offer support if you need it.\n",
      "\n",
      "Remember that you're strong and capable, and you've gotten through tough times before. You can get through this too.\n"
     ]
    }
   ],
   "source": [
    "res = chain.invoke({\"question\":\"You are arrogant person\"})\n",
    "print(res)"
   ]
  },
  {
   "cell_type": "code",
   "execution_count": 34,
   "id": "c7b46e40",
   "metadata": {},
   "outputs": [],
   "source": [
    "# What is runnable?\n",
    "# Each has purpose (Unit of work) (input,process,output)\n",
    "# Common methods(same interface) invoke,batch,stream\n",
    "# seemless connection across components to create chains\n",
    "# Chains connection"
   ]
  },
  {
   "attachments": {
    "image.png": {
     "image/png": "[encoded data removed]"
    }
   },
   "cell_type": "markdown",
   "id": "7448369c",
   "metadata": {},
   "source": [
    "![image.png](attachment:image.png)"
   ]
  },
  {
   "cell_type": "code",
   "execution_count": 40,
   "id": "619ff4c4",
   "metadata": {},
   "outputs": [],
   "source": [
    "def word_count(info):\n",
    "    return len(info.split())"
   ]
  },
  {
   "cell_type": "code",
   "execution_count": 42,
   "id": "4b7ae1cf",
   "metadata": {},
   "outputs": [
    {
     "name": "stdout",
     "output_type": "stream",
     "text": [
      "{'text': \"A cricket joke! Here's one:\\n\\nWhy did the cricketer bring a ladder to the pitch?\\n\\nBecause he wanted to take his game to a whole new level! (get it?)\\n\\nI hope that one bowled you over with laughter!\", 'length': 38}\n"
     ]
    }
   ],
   "source": [
    "prompt = PromptTemplate(\n",
    "    template=\"Tell me a good joke about {topic}\",\n",
    "    input_variables=['topic']\n",
    "    )\n",
    "chain = RunnableSequence(prompt,llm,StrOutputParser())\n",
    "branch = RunnableParallel({\n",
    "    \"text\":RunnablePassthrough(),\n",
    "    \"length\":RunnableLambda(word_count)\n",
    "})\n",
    "final_chain = chain | branch\n",
    "res = final_chain.invoke({'topic':\"Cricket\"})\n",
    "print(res)"
   ]
  },
  {
   "cell_type": "markdown",
   "id": "e58c3b0c",
   "metadata": {},
   "source": [
    "# RAG"
   ]
  },
  {
   "cell_type": "markdown",
   "id": "8bfae3d6",
   "metadata": {},
   "source": [
    "## Document Loader"
   ]
  },
  {
   "attachments": {
    "image.png": {
     "image/png": "[encoded data removed]"
    }
   },
   "cell_type": "markdown",
   "id": "6fdd16ad",
   "metadata": {},
   "source": [
    "Bringing data from multiple sources and create document objects which is standardized format. Which will have page content and metadata.\n",
    "![image.png](attachment:image.png)"
   ]
  },
  {
   "cell_type": "code",
   "execution_count": 43,
   "id": "35aadaa9",
   "metadata": {},
   "outputs": [
    {
     "name": "stderr",
     "output_type": "stream",
     "text": [
      "USER_AGENT environment variable not set, consider setting it to identify your requests.\n"
     ]
    }
   ],
   "source": [
    "from langchain_community.document_loaders import TextLoader,PyPDFLoader,DirectoryLoader,WebBaseLoader"
   ]
  },
  {
   "cell_type": "code",
   "execution_count": 44,
   "id": "333f2f52",
   "metadata": {},
   "outputs": [],
   "source": [
    "loader = TextLoader('data/work.txt')"
   ]
  },
  {
   "cell_type": "code",
   "execution_count": null,
   "id": "7268fb7b",
   "metadata": {},
   "outputs": [],
   "source": [
    "docs = loader.load()\n",
    "docs"
   ]
  },
  {
   "cell_type": "code",
   "execution_count": 46,
   "id": "f64dbcbc",
   "metadata": {},
   "outputs": [
    {
     "data": {
      "text/plain": [
       "1"
      ]
     },
     "execution_count": 46,
     "metadata": {},
     "output_type": "execute_result"
    }
   ],
   "source": [
    "len(docs)"
   ]
  },
  {
   "cell_type": "code",
   "execution_count": 47,
   "id": "6e508c5b",
   "metadata": {},
   "outputs": [
    {
     "data": {
      "text/plain": [
       "langchain_core.documents.base.Document"
      ]
     },
     "execution_count": 47,
     "metadata": {},
     "output_type": "execute_result"
    }
   ],
   "source": [
    "type(docs[0])"
   ]
  },
  {
   "cell_type": "code",
   "execution_count": null,
   "id": "7df49b7c",
   "metadata": {},
   "outputs": [],
   "source": [
    "docs[0].page_content"
   ]
  },
  {
   "cell_type": "code",
   "execution_count": 52,
   "id": "e175e499",
   "metadata": {},
   "outputs": [
    {
     "data": {
      "text/plain": [
       "2"
      ]
     },
     "execution_count": 52,
     "metadata": {},
     "output_type": "execute_result"
    }
   ],
   "source": [
    "dir_loader = DirectoryLoader('data/',glob='*.txt',loader_cls=TextLoader)\n",
    "docs = dir_loader.load()\n",
    "len(docs)"
   ]
  },
  {
   "cell_type": "code",
   "execution_count": null,
   "id": "042d4d79",
   "metadata": {},
   "outputs": [],
   "source": [
    "docs"
   ]
  },
  {
   "cell_type": "code",
   "execution_count": null,
   "id": "12eb5456",
   "metadata": {},
   "outputs": [],
   "source": [
    "dir_loader = DirectoryLoader('data/',glob='*.pdf',loader_cls=PyPDFLoader) \n",
    "docs = dir_loader.load()\n",
    "docs # 5 pages in shareholder PDF"
   ]
  },
  {
   "cell_type": "code",
   "execution_count": 55,
   "id": "445fb81f",
   "metadata": {},
   "outputs": [
    {
     "name": "stdout",
     "output_type": "stream",
     "text": [
      "According to the document, the employee count is mentioned in two places:\n",
      "\n",
      "1. On page 2 (page_label '3'):\n",
      "\"In 1997, we worked hard to expand our business infrastructure to support these greatly increased traffic, sales, and service levels: • Amazon.com's employee base grew from 158 to 614, and we significantly strengthened our management team.\"\n",
      "2. On page 4 (page_label '5'):\n",
      "\"In 1997, our employee base grew from 158 to 614, and we significantly strengthened our management team.\"\n",
      "\n",
      "So, the employee count is 614 at the end of 1997.\n"
     ]
    }
   ],
   "source": [
    "prompt = PromptTemplate(template=\"Kindly answer below question based on {knowledge}\\n. Question: {question}\",input_variables=[\"knowledge\",\"question\"])\n",
    "parser = StrOutputParser()\n",
    "chain = prompt | llm | parser\n",
    "res = chain.invoke({\n",
    "    'knowledge':docs,\n",
    "    'question':'What is employee count?'\n",
    "})\n",
    "print(res)"
   ]
  },
  {
   "cell_type": "markdown",
   "id": "40c6777f",
   "metadata": {},
   "source": [
    "## TEXT SPLITTERS"
   ]
  },
  {
   "cell_type": "code",
   "execution_count": 56,
   "id": "cb0c42cb",
   "metadata": {},
   "outputs": [],
   "source": [
    "from langchain.text_splitter import CharacterTextSplitter,RecursiveCharacterTextSplitter"
   ]
  },
  {
   "cell_type": "code",
   "execution_count": null,
   "id": "b94cf1b2",
   "metadata": {},
   "outputs": [],
   "source": [
    "splitter = CharacterTextSplitter(separator=\".\",chunk_size=100,chunk_overlap=0)\n",
    "res = splitter.split_text(docs[0].page_content)\n",
    "res"
   ]
  },
  {
   "cell_type": "code",
   "execution_count": 63,
   "id": "45fe6c34",
   "metadata": {},
   "outputs": [
    {
     "data": {
      "text/plain": [
       "22"
      ]
     },
     "execution_count": 63,
     "metadata": {},
     "output_type": "execute_result"
    }
   ],
   "source": [
    "len(res)"
   ]
  },
  {
   "cell_type": "code",
   "execution_count": null,
   "id": "108b13de",
   "metadata": {},
   "outputs": [],
   "source": [
    "result = splitter.split_documents(docs)\n",
    "len(result)"
   ]
  },
  {
   "cell_type": "code",
   "execution_count": null,
   "id": "145f9831",
   "metadata": {},
   "outputs": [],
   "source": [
    "r_splitter = RecursiveCharacterTextSplitter(chunk_size=100,chunk_overlap=0) \n",
    "# Here by default data is split to paragraphs first '\\n\\n' then sentences('\\n'), then words (' ')\n",
    "# and then charecters ('').\n",
    "res = r_splitter.split_documents(docs)\n",
    "res"
   ]
  },
  {
   "cell_type": "code",
   "execution_count": 70,
   "id": "ef7c7c56",
   "metadata": {},
   "outputs": [
    {
     "data": {
      "text/plain": [
       "138"
      ]
     },
     "execution_count": 70,
     "metadata": {},
     "output_type": "execute_result"
    }
   ],
   "source": [
    "len(res)"
   ]
  },
  {
   "cell_type": "code",
   "execution_count": 71,
   "id": "72bc1a92",
   "metadata": {},
   "outputs": [
    {
     "data": {
      "text/plain": [
       "Document(metadata={'producer': 'Acrobat Distiller 4.05 for Windows', 'creator': 'Microsoft Word 10.0', 'creationdate': 'D:20030410174414', 'moddate': '2003-04-10T17:45:31-07:00', 'author': 'Ace', 'title': 'To our shareholders:', 'source': 'data\\\\Shareholderletter97.pdf', 'total_pages': 5, 'page': 0, 'page_label': '1'}, page_content='To our shareholders:')"
      ]
     },
     "execution_count": 71,
     "metadata": {},
     "output_type": "execute_result"
    }
   ],
   "source": [
    "res[0]"
   ]
  },
  {
   "cell_type": "code",
   "execution_count": 72,
   "id": "67a2e1bf",
   "metadata": {},
   "outputs": [],
   "source": [
    "text = \"\"\"\n",
    "class Student:\n",
    "    def __init__(self, name, age, grade):\n",
    "        self.name = name\n",
    "        self.age = age\n",
    "        self.grade = grade  # Grade is a float (like 8.5 or 9.2)\n",
    "\n",
    "    def get_details(self):\n",
    "        return self.name\"\n",
    "\n",
    "    def is_passing(self):\n",
    "        return self.grade >= 6.0\n",
    "\n",
    "\n",
    "# Example usage\n",
    "student1 = Student(\"Aarav\", 20, 8.2)\n",
    "print(student1.get_details())\n",
    "\n",
    "if student1.is_passing():\n",
    "    print(\"The student is passing.\")\n",
    "else:\n",
    "    print(\"The student is not passing.\")\n",
    "\n",
    "\"\"\""
   ]
  },
  {
   "cell_type": "code",
   "execution_count": 83,
   "id": "0cd1bbab",
   "metadata": {},
   "outputs": [],
   "source": [
    "from langchain.text_splitter import Language\n",
    "r_lang_splitter = RecursiveCharacterTextSplitter.from_language(language=Language.PYTHON,chunk_size=200,chunk_overlap=0)"
   ]
  },
  {
   "cell_type": "code",
   "execution_count": 84,
   "id": "8e1fc3fc",
   "metadata": {},
   "outputs": [
    {
     "data": {
      "text/plain": [
       "3"
      ]
     },
     "execution_count": 84,
     "metadata": {},
     "output_type": "execute_result"
    }
   ],
   "source": [
    "chunks = r_lang_splitter.split_text(text)\n",
    "len(chunks)"
   ]
  },
  {
   "cell_type": "code",
   "execution_count": 85,
   "id": "e9b7f08b",
   "metadata": {},
   "outputs": [
    {
     "name": "stdout",
     "output_type": "stream",
     "text": [
      "class Student:\n",
      "    def __init__(self, name, age, grade):\n",
      "        self.name = name\n",
      "        self.age = age\n",
      "        self.grade = grade  # Grade is a float (like 8.5 or 9.2)\n"
     ]
    }
   ],
   "source": [
    "print(chunks[0])"
   ]
  },
  {
   "cell_type": "code",
   "execution_count": 86,
   "id": "f7bcf07a",
   "metadata": {},
   "outputs": [
    {
     "name": "stdout",
     "output_type": "stream",
     "text": [
      "def get_details(self):\n",
      "        return self.name\"\n",
      "\n",
      "    def is_passing(self):\n",
      "        return self.grade >= 6.0\n",
      "\n",
      "\n",
      "# Example usage\n",
      "student1 = Student(\"Aarav\", 20, 8.2)\n",
      "print(student1.get_details())\n"
     ]
    }
   ],
   "source": [
    "print(chunks[1])"
   ]
  },
  {
   "cell_type": "code",
   "execution_count": 88,
   "id": "e34f9776",
   "metadata": {},
   "outputs": [
    {
     "name": "stderr",
     "output_type": "stream",
     "text": [
      "c:\\Users\\Narendra\\anaconda3\\envs\\genai\\Lib\\site-packages\\tqdm\\auto.py:21: TqdmWarning: IProgress not found. Please update jupyter and ipywidgets. See https://ipywidgets.readthedocs.io/en/stable/user_install.html\n",
      "  from .autonotebook import tqdm as notebook_tqdm\n"
     ]
    }
   ],
   "source": [
    "from langchain_huggingface import HuggingFaceEmbeddings\n",
    "embeds = HuggingFaceEmbeddings(model_name=\"sentence-transformers/all-MiniLM-L6-v2\")"
   ]
  },
  {
   "cell_type": "code",
   "execution_count": 110,
   "id": "c720252b",
   "metadata": {},
   "outputs": [],
   "source": [
    "from langchain_experimental.text_splitter import SemanticChunker\n",
    "splitter = SemanticChunker(\n",
    "    embeds,\n",
    "    # breakpoint_threshold_amount=3,\n",
    "    # breakpoint_threshold_type='standard_deviation'\n",
    ")"
   ]
  },
  {
   "cell_type": "code",
   "execution_count": 111,
   "id": "ad9e4805",
   "metadata": {},
   "outputs": [],
   "source": [
    "sample = \"\"\"\n",
    "Farmers were working hard in the fields, preparing the soil and planting seeds for the next season. The sun was bright, and the air smelled of earth and fresh grass. The Indian Premier League (IPL) is the biggest cricket league in the world. People all over the world watch the matches and cheer for their favourite teams.\n",
    "Terrorism is a big danger to peace and safety. It causes harm to people and creates fear in cities and villages. When such attacks happen, they leave behind pain and sadness. To fight terrorism, we need strong laws, alert security forces, and support from people who care about peace and safety.\n",
    "\"\"\""
   ]
  },
  {
   "cell_type": "code",
   "execution_count": 114,
   "id": "e204dee0",
   "metadata": {},
   "outputs": [
    {
     "data": {
      "text/plain": [
       "[Document(metadata={}, page_content='\\nFarmers were working hard in the fields, preparing the soil and planting seeds for the next season.'),\n",
       " Document(metadata={}, page_content='The sun was bright, and the air smelled of earth and fresh grass. The Indian Premier League (IPL) is the biggest cricket league in the world. People all over the world watch the matches and cheer for their favourite teams. Terrorism is a big danger to peace and safety. It causes harm to people and creates fear in cities and villages. When such attacks happen, they leave behind pain and sadness. To fight terrorism, we need strong laws, alert security forces, and support from people who care about peace and safety. ')]"
      ]
     },
     "execution_count": 114,
     "metadata": {},
     "output_type": "execute_result"
    }
   ],
   "source": [
    "docs = splitter.create_documents([sample])\n",
    "docs"
   ]
  },
  {
   "cell_type": "code",
   "execution_count": 113,
   "id": "a4f190ac",
   "metadata": {},
   "outputs": [
    {
     "data": {
      "text/plain": [
       "2"
      ]
     },
     "execution_count": 113,
     "metadata": {},
     "output_type": "execute_result"
    }
   ],
   "source": [
    "len(docs)"
   ]
  },
  {
   "cell_type": "markdown",
   "id": "f29dd906",
   "metadata": {},
   "source": [
    "## VECTOR STORES"
   ]
  },
  {
   "cell_type": "code",
   "execution_count": 115,
   "id": "dc5af975",
   "metadata": {},
   "outputs": [],
   "source": [
    "from langchain.vectorstores import Chroma"
   ]
  },
  {
   "cell_type": "code",
   "execution_count": 116,
   "id": "78a9d81a",
   "metadata": {},
   "outputs": [],
   "source": [
    "from langchain.schema import Document\n",
    "\n",
    "# Create LangChain documents for IPL players\n",
    "\n",
    "doc1 = Document(\n",
    "        page_content=\"Virat Kohli is one of the most successful and consistent batsmen in IPL history. Known for his aggressive batting style and fitness, he has led the Royal Challengers Bangalore in multiple seasons.\",\n",
    "        metadata={\"team\": \"Royal Challengers Bangalore\"}\n",
    "    )\n",
    "doc2 = Document(\n",
    "        page_content=\"Rohit Sharma is the most successful captain in IPL history, leading Mumbai Indians to five titles. He's known for his calm demeanor and ability to play big innings under pressure.\",\n",
    "        metadata={\"team\": \"Mumbai Indians\"}\n",
    "    )\n",
    "doc3 = Document(\n",
    "        page_content=\"MS Dhoni, famously known as Captain Cool, has led Chennai Super Kings to multiple IPL titles. His finishing skills, wicketkeeping, and leadership are legendary.\",\n",
    "        metadata={\"team\": \"Chennai Super Kings\"}\n",
    "    )\n",
    "doc4 = Document(\n",
    "        page_content=\"Jasprit Bumrah is considered one of the best fast bowlers in T20 cricket. Playing for Mumbai Indians, he is known for his yorkers and death-over expertise.\",\n",
    "        metadata={\"team\": \"Mumbai Indians\"}\n",
    "    )\n",
    "doc5 = Document(\n",
    "        page_content=\"Ravindra Jadeja is a dynamic all-rounder who contributes with both bat and ball. Representing Chennai Super Kings, his quick fielding and match-winning performances make him a key player.\",\n",
    "        metadata={\"team\": \"Chennai Super Kings\"}\n",
    "    )\n"
   ]
  },
  {
   "cell_type": "code",
   "execution_count": 117,
   "id": "a107a941",
   "metadata": {},
   "outputs": [
    {
     "name": "stderr",
     "output_type": "stream",
     "text": [
      "C:\\Users\\Narendra\\AppData\\Local\\Temp\\ipykernel_22672\\2087886137.py:2: LangChainDeprecationWarning: The class `Chroma` was deprecated in LangChain 0.2.9 and will be removed in 1.0. An updated version of the class exists in the :class:`~langchain-chroma package and should be used instead. To use it run `pip install -U :class:`~langchain-chroma` and import as `from :class:`~langchain_chroma import Chroma``.\n",
      "  store = Chroma(embedding_function=embeds,persist_directory='./chroma',collection_name='crikcet_players')\n"
     ]
    }
   ],
   "source": [
    "docs = [doc1,doc2,doc3,doc4,doc5]\n",
    "store = Chroma(embedding_function=embeds,persist_directory='./chroma',collection_name='crikcet_players')"
   ]
  },
  {
   "cell_type": "code",
   "execution_count": 118,
   "id": "69654efa",
   "metadata": {},
   "outputs": [
    {
     "data": {
      "text/plain": [
       "['2b5050c2-9ecc-4db1-9ff1-eae23e452d40',\n",
       " 'f9e1f120-07fb-4c81-beb6-85b15d472c20',\n",
       " '00b9ccfa-57d8-4a10-beee-25f0692438f8',\n",
       " 'c329ece0-9dad-48df-a1a2-4ada11812655',\n",
       " '047eaff5-1b15-440a-8af8-44b4bd18d34a']"
      ]
     },
     "execution_count": 118,
     "metadata": {},
     "output_type": "execute_result"
    }
   ],
   "source": [
    "store.add_documents(docs)"
   ]
  },
  {
   "cell_type": "code",
   "execution_count": 127,
   "id": "58c6fd5d",
   "metadata": {},
   "outputs": [
    {
     "data": {
      "text/plain": [
       "[Document(metadata={'team': 'Mumbai Indians'}, page_content='Jasprit Bumrah is considered one of the best fast bowlers in T20 cricket. Playing for Mumbai Indians, he is known for his yorkers and death-over expertise.'),\n",
       " Document(metadata={'team': 'Mumbai Indians'}, page_content=\"Rohit Sharma is the most successful captain in IPL history, leading Mumbai Indians to five titles. He's known for his calm demeanor and ability to play big innings under pressure.\")]"
      ]
     },
     "execution_count": 127,
     "metadata": {},
     "output_type": "execute_result"
    }
   ],
   "source": [
    "store.similarity_search(\n",
    "    query=\"Who is best bowler?\",\n",
    "    k=2\n",
    ")"
   ]
  },
  {
   "cell_type": "code",
   "execution_count": 134,
   "id": "2c3f505a",
   "metadata": {},
   "outputs": [
    {
     "data": {
      "text/plain": [
       "[(Document(metadata={'team': 'Mumbai Indians'}, page_content=\"Rohit Sharma is the most successful captain in IPL history, leading Mumbai Indians to five titles. He's known for his calm demeanor and ability to play big innings under pressure.\"),\n",
       "  0.8067167401313782),\n",
       " (Document(metadata={'team': 'Chennai Super Kings'}, page_content='MS Dhoni, famously known as Captain Cool, has led Chennai Super Kings to multiple IPL titles. His finishing skills, wicketkeeping, and leadership are legendary.'),\n",
       "  1.0509963035583496)]"
      ]
     },
     "execution_count": 134,
     "metadata": {},
     "output_type": "execute_result"
    }
   ],
   "source": [
    "store.similarity_search_with_score(query=\"who is best captain\",k=2)"
   ]
  },
  {
   "cell_type": "code",
   "execution_count": 133,
   "id": "906a18de",
   "metadata": {},
   "outputs": [
    {
     "data": {
      "text/plain": [
       "[(Document(metadata={'team': 'Mumbai Indians'}, page_content=\"Rohit Sharma is the most successful captain in IPL history, leading Mumbai Indians to five titles. He's known for his calm demeanor and ability to play big innings under pressure.\"),\n",
       "  0.8067167401313782),\n",
       " (Document(metadata={'team': 'Chennai Super Kings'}, page_content='MS Dhoni, famously known as Captain Cool, has led Chennai Super Kings to multiple IPL titles. His finishing skills, wicketkeeping, and leadership are legendary.'),\n",
       "  1.0509963035583496),\n",
       " (Document(metadata={'team': 'Royal Challengers Bangalore'}, page_content='Virat Kohli is one of the most successful and consistent batsmen in IPL history. Known for his aggressive batting style and fitness, he has led the Royal Challengers Bangalore in multiple seasons.'),\n",
       "  1.1689271926879883),\n",
       " (Document(metadata={'team': 'Chennai Super Kings'}, page_content='Ravindra Jadeja is a dynamic all-rounder who contributes with both bat and ball. Representing Chennai Super Kings, his quick fielding and match-winning performances make him a key player.'),\n",
       "  1.2254620790481567)]"
      ]
     },
     "execution_count": 133,
     "metadata": {},
     "output_type": "execute_result"
    }
   ],
   "source": [
    "store.similarity_search_with_score(query=\"who is best captain\")"
   ]
  },
  {
   "cell_type": "code",
   "execution_count": 132,
   "id": "f45b21f7",
   "metadata": {},
   "outputs": [
    {
     "data": {
      "text/plain": [
       "[(Document(metadata={'team': 'Chennai Super Kings'}, page_content='MS Dhoni, famously known as Captain Cool, has led Chennai Super Kings to multiple IPL titles. His finishing skills, wicketkeeping, and leadership are legendary.'),\n",
       "  1.8436005115509033),\n",
       " (Document(metadata={'team': 'Chennai Super Kings'}, page_content='Ravindra Jadeja is a dynamic all-rounder who contributes with both bat and ball. Representing Chennai Super Kings, his quick fielding and match-winning performances make him a key player.'),\n",
       "  1.890937328338623)]"
      ]
     },
     "execution_count": 132,
     "metadata": {},
     "output_type": "execute_result"
    }
   ],
   "source": [
    "store.similarity_search_with_score(query=\"\",filter={'team':'Chennai Super Kings'})"
   ]
  },
  {
   "cell_type": "code",
   "execution_count": 135,
   "id": "b2c0bd4d",
   "metadata": {},
   "outputs": [
    {
     "data": {
      "text/plain": [
       "{'ids': ['2b5050c2-9ecc-4db1-9ff1-eae23e452d40',\n",
       "  'f9e1f120-07fb-4c81-beb6-85b15d472c20',\n",
       "  '00b9ccfa-57d8-4a10-beee-25f0692438f8',\n",
       "  'c329ece0-9dad-48df-a1a2-4ada11812655',\n",
       "  '047eaff5-1b15-440a-8af8-44b4bd18d34a'],\n",
       " 'embeddings': None,\n",
       " 'documents': ['Virat Kohli is one of the most successful and consistent batsmen in IPL history. Known for his aggressive batting style and fitness, he has led the Royal Challengers Bangalore in multiple seasons.',\n",
       "  \"Rohit Sharma is the most successful captain in IPL history, leading Mumbai Indians to five titles. He's known for his calm demeanor and ability to play big innings under pressure.\",\n",
       "  'MS Dhoni, famously known as Captain Cool, has led Chennai Super Kings to multiple IPL titles. His finishing skills, wicketkeeping, and leadership are legendary.',\n",
       "  'Jasprit Bumrah is considered one of the best fast bowlers in T20 cricket. Playing for Mumbai Indians, he is known for his yorkers and death-over expertise.',\n",
       "  'Ravindra Jadeja is a dynamic all-rounder who contributes with both bat and ball. Representing Chennai Super Kings, his quick fielding and match-winning performances make him a key player.'],\n",
       " 'uris': None,\n",
       " 'included': ['metadatas', 'documents'],\n",
       " 'data': None,\n",
       " 'metadatas': [{'team': 'Royal Challengers Bangalore'},\n",
       "  {'team': 'Mumbai Indians'},\n",
       "  {'team': 'Chennai Super Kings'},\n",
       "  {'team': 'Mumbai Indians'},\n",
       "  {'team': 'Chennai Super Kings'}]}"
      ]
     },
     "execution_count": 135,
     "metadata": {},
     "output_type": "execute_result"
    }
   ],
   "source": [
    "store.get()"
   ]
  },
  {
   "cell_type": "code",
   "execution_count": 136,
   "id": "6d6fd15f",
   "metadata": {},
   "outputs": [],
   "source": [
    "upd_doc = Document(\n",
    "    page_content=\"Virat Kohli, the former captain of Royal Challengers Bangalore (RCB), is renowned for his aggressive leadership and consistent batting performances. He holds the record for the most runs in IPL history, including multiple centuries in a single season. Despite RCB not winning an IPL title under his captaincy, Kohli's passion and fitness set a benchmark for the league. His ability to chase targets and anchor innings has made him one of the most dependable players in T20 cricket.\",\n",
    "    metadata={\"team\": \"Royal Challengers Bangalore\"}\n",
    ")\n",
    "store.update_document(document_id=store.get()['ids'][0],document=upd_doc)"
   ]
  },
  {
   "cell_type": "code",
   "execution_count": 137,
   "id": "5cbbd608",
   "metadata": {},
   "outputs": [
    {
     "data": {
      "text/plain": [
       "{'ids': ['2b5050c2-9ecc-4db1-9ff1-eae23e452d40',\n",
       "  'f9e1f120-07fb-4c81-beb6-85b15d472c20',\n",
       "  '00b9ccfa-57d8-4a10-beee-25f0692438f8',\n",
       "  'c329ece0-9dad-48df-a1a2-4ada11812655',\n",
       "  '047eaff5-1b15-440a-8af8-44b4bd18d34a'],\n",
       " 'embeddings': None,\n",
       " 'documents': [\"Virat Kohli, the former captain of Royal Challengers Bangalore (RCB), is renowned for his aggressive leadership and consistent batting performances. He holds the record for the most runs in IPL history, including multiple centuries in a single season. Despite RCB not winning an IPL title under his captaincy, Kohli's passion and fitness set a benchmark for the league. His ability to chase targets and anchor innings has made him one of the most dependable players in T20 cricket.\",\n",
       "  \"Rohit Sharma is the most successful captain in IPL history, leading Mumbai Indians to five titles. He's known for his calm demeanor and ability to play big innings under pressure.\",\n",
       "  'MS Dhoni, famously known as Captain Cool, has led Chennai Super Kings to multiple IPL titles. His finishing skills, wicketkeeping, and leadership are legendary.',\n",
       "  'Jasprit Bumrah is considered one of the best fast bowlers in T20 cricket. Playing for Mumbai Indians, he is known for his yorkers and death-over expertise.',\n",
       "  'Ravindra Jadeja is a dynamic all-rounder who contributes with both bat and ball. Representing Chennai Super Kings, his quick fielding and match-winning performances make him a key player.'],\n",
       " 'uris': None,\n",
       " 'included': ['metadatas', 'documents'],\n",
       " 'data': None,\n",
       " 'metadatas': [{'team': 'Royal Challengers Bangalore'},\n",
       "  {'team': 'Mumbai Indians'},\n",
       "  {'team': 'Chennai Super Kings'},\n",
       "  {'team': 'Mumbai Indians'},\n",
       "  {'team': 'Chennai Super Kings'}]}"
      ]
     },
     "execution_count": 137,
     "metadata": {},
     "output_type": "execute_result"
    }
   ],
   "source": [
    "store.get()"
   ]
  },
  {
   "cell_type": "code",
   "execution_count": 138,
   "id": "e5d6e9ba",
   "metadata": {},
   "outputs": [],
   "source": [
    "store.delete(store.get()['ids'][-1])"
   ]
  },
  {
   "cell_type": "code",
   "execution_count": 139,
   "id": "456d972f",
   "metadata": {},
   "outputs": [
    {
     "data": {
      "text/plain": [
       "{'ids': ['2b5050c2-9ecc-4db1-9ff1-eae23e452d40',\n",
       "  'f9e1f120-07fb-4c81-beb6-85b15d472c20',\n",
       "  '00b9ccfa-57d8-4a10-beee-25f0692438f8',\n",
       "  'c329ece0-9dad-48df-a1a2-4ada11812655'],\n",
       " 'embeddings': None,\n",
       " 'documents': [\"Virat Kohli, the former captain of Royal Challengers Bangalore (RCB), is renowned for his aggressive leadership and consistent batting performances. He holds the record for the most runs in IPL history, including multiple centuries in a single season. Despite RCB not winning an IPL title under his captaincy, Kohli's passion and fitness set a benchmark for the league. His ability to chase targets and anchor innings has made him one of the most dependable players in T20 cricket.\",\n",
       "  \"Rohit Sharma is the most successful captain in IPL history, leading Mumbai Indians to five titles. He's known for his calm demeanor and ability to play big innings under pressure.\",\n",
       "  'MS Dhoni, famously known as Captain Cool, has led Chennai Super Kings to multiple IPL titles. His finishing skills, wicketkeeping, and leadership are legendary.',\n",
       "  'Jasprit Bumrah is considered one of the best fast bowlers in T20 cricket. Playing for Mumbai Indians, he is known for his yorkers and death-over expertise.'],\n",
       " 'uris': None,\n",
       " 'included': ['metadatas', 'documents'],\n",
       " 'data': None,\n",
       " 'metadatas': [{'team': 'Royal Challengers Bangalore'},\n",
       "  {'team': 'Mumbai Indians'},\n",
       "  {'team': 'Chennai Super Kings'},\n",
       "  {'team': 'Mumbai Indians'}]}"
      ]
     },
     "execution_count": 139,
     "metadata": {},
     "output_type": "execute_result"
    }
   ],
   "source": [
    "store.get()"
   ]
  },
  {
   "cell_type": "markdown",
   "id": "0bde65e7",
   "metadata": {},
   "source": [
    "## RETRIVERS"
   ]
  },
  {
   "cell_type": "markdown",
   "id": "7212f4d8",
   "metadata": {},
   "source": [
    "Takes input in the form of query and gets specific document objects from vector store.\n",
    "\n",
    "Retriver based on sources - (Wikipedia retriver, vector store retrivers)\n",
    "\n",
    "Based on search strategy - (Maximum marginal relavence,multi query..)"
   ]
  },
  {
   "cell_type": "code",
   "execution_count": 140,
   "id": "6dbf00b0",
   "metadata": {},
   "outputs": [],
   "source": [
    "from langchain_community.retrievers import WikipediaRetriever\n",
    "retriver = WikipediaRetriever(top_k_results=2,sources=['India Independence'],lang=\"en\")"
   ]
  },
  {
   "cell_type": "code",
   "execution_count": 142,
   "id": "0b5b25a8",
   "metadata": {},
   "outputs": [
    {
     "name": "stdout",
     "output_type": "stream",
     "text": [
      "Independence Day is celebrated annually on 15 August as a public holiday in India commemorating the nation's independence from the United Kingdom on 15 August 1947. On this day the Indian Independence Act 1947 came into effect, transferring legislative sovereignty to the Indian Constituent Assembly. India attained independence following the independence movement noted for largely non-violent resistance and civil disobedience led by Indian National Congress under the leadership of Mahatma Gandhi.\n",
      "Independence coincided with the partition of India, in which British India was divided into the Dominions of India and Pakistan; the partition was accompanied by violent riots and mass casualties. On 15 August 1947, the first Prime Minister of India, Jawaharlal Nehru raised the Indian national flag above the Lahori Gate of the Red Fort in Delhi. On each subsequent Independence Day, the incumbent Prime Minister customarily raises the flag and gives an address to the nation. The entire event is broadcast by Doordarshan, India's national broadcaster, and usually begins with the shehnai music of Ustad Bismillah Khan. Independence Day is observed throughout India with flag-hoisting ceremonies, parades and cultural events. It is a national holiday in the country.\n",
      "\n",
      "\n",
      "== History ==\n",
      "\n",
      "European traders had established outposts in the Indian subcontinent by the late 17th century. Through overwhelming military strength, the East India Company fought and annexed local kingdoms and established themselves as the dominant force by the 18th century. Following the Indian Rebellion of 1857, the Government of India Act 1858 led the British Crown to assume direct control of India. In the decades following, civic society gradually emerged across India, most notably the Indian National Congress Party, formed in 1885.: 123  The period after World War I was marked by colonial reforms such as the Montagu–Chelmsford Reforms, but it also witnessed the enactment of the unpopular Rowlatt Act and calls for self-rule by Indian activists. The discontent of this period crystallised into nationwide non-violent movements of non-cooperation and civil disobedience, led by Mahatma Gandhi.: 167 \n",
      "During the 1930s, the reform was gradually legislated by the British; Congress won victories in the resulting elections.: 195–197  The next decade was beset with political turmoil: Indian participation in World War II, the Congress' final push for non-cooperation, and an upsurge of Muslim nationalism led by the All-India Muslim League. The escalating political tension was capped by Independence in 1947. The jubilation was tempered by the bloody partition of colonial India into India and Pakistan.: 203 \n",
      "\n",
      "\n",
      "=== Independence Day before Independence ===\n",
      "Hasrat Mohani was the first person in Indian History who demanded 'Complete Independence' (Azadi-e-Kaamil), at the 1929  session of the Indian National Congress, the Purna Swaraj declaration, or \"Declaration of the Independence of India\" was promulgated, and 26 January was declared as Independence Day in 1930. The Congress called on people to pledge themselves to civil disobedience and \"to carry out the Congress instructions issued from time to time\" until India attained complete independence. Celebration of such an Independence Day was envisioned to stoke nationalistic fervour among Indian citizens, and to force the British government to consider granting independence.: 19 \n",
      "The Congress observed 26 January as the Independence Day between 1930 and 1946. The celebration was marked by meetings where the attendants took the \"pledge of independence\".: 19–20  Jawaharlal Nehru described in his autobiography that such meetings were peaceful, solemn, and \"without any speeches or exhortation\". Gandhi envisaged that besides the meetings, the day would be spent \" ... in doing some constructive work, whether it is spinning, or service of 'untouchables,' or reunion of Hindus and Mussalmans, or prohibition work, or even all these together\". Following actu\n",
      "--------------------\n",
      "The history of independent India or history of Republic of India began when the country became an independent sovereign state within the British Commonwealth on 15 August 1947. Direct administration by the British, which began in 1858, affected a political and economic unification of the subcontinent. When British rule came to an end in 1947, the subcontinent was partitioned along religious lines into two separate countries—India, with a majority of Hindus, and Pakistan, with a majority of Muslims. Concurrently the Muslim-majority northwest and east of British India was separated into the Dominion of Pakistan, by the Partition of India. The partition led to a population transfer of more than 10 million people between India and Pakistan and the death of about one million people. Indian National Congress leader Jawaharlal Nehru became the first Prime Minister of India, but the leader most associated with the independence struggle, Mahatma Gandhi, accepted no office. The constitution adopted in 1950 made India a democratic republic with Westminster style parliamentary system of government, both at federal and state level respectively. The  democracy has been sustained since then. India's sustained democratic freedoms are unique among the world's newly independent states.\n",
      "The country has faced religious violence, naxalism, terrorism and regional separatist insurgencies. India has unresolved territorial disputes with China which escalated into a war in 1962 and 1967, and with Pakistan which resulted in wars in 1947, 1965, 1971 and 1999. India was neutral in the Cold War, and was a leader in the Non-Aligned Movement. However, it made a loose alliance with the Soviet Union from 1971, when Pakistan was allied with the United States and the People's Republic of China.\n",
      "\n",
      "India is a nuclear-weapon state, having conducted its first nuclear test in 1974, followed by another five tests in 1998. From the 1950s to the 1980s, India followed socialist-inspired policies. The economy was influenced by extensive regulation, protectionism and public ownership, leading to pervasive corruption and slow economic growth. Since 1991, India has pursued more economic liberalisation. Today, India is the third largest and one of the fastest-growing economies in the world.\n",
      "From being a relatively struggling country in its formative years, the Republic of India has emerged as a fast growing G20 major economy. India has sometimes been referred to as a great power and a potential superpower given its large and growing economy, military and population.\n",
      "\n",
      "\n",
      "== 1947–1950: Dominion of India ==\n",
      "\n",
      "Independent India's first years were marked with turbulent events—a massive exchange of population with Pakistan, the Indo-Pakistani War of 1947 and the integration of over 500 princely states to form a united nation. Vallabhbhai Patel, Jawaharlal Nehru and Mahatma Gandhi also ensured that the constitution of independent India would be secular.\n",
      "\n",
      "\n",
      "=== Partition of India ===\n",
      "\n",
      "The partition of India was outlined in the Indian Independence Act 1947. It led to the dissolution of the British Raj in South Asia and the creation of two independent dominions: India and Pakistan. The change of political borders notably included the division of two provinces of British India, Bengal and Punjab. The majority Muslim districts in these provinces were awarded to Pakistan and the majority non-Muslim to India. The other assets that were divided included the British Indian Army, the Royal Indian Navy, the Royal Indian Air Force, the Indian Civil Service, the railways, and the central treasury. Self-governing independent Pakistan and India legally came into existence at midnight on 14 and 15 August 1947 respectively.The partition caused large-scale loss of life and an unprecedented migration between the two dominions. Among refugees who survived, it solidified the belief that safety lay among co-religionists. In the instance of Pakistan, it made palpable a hitherto only-imagined refuge for the Mus\n",
      "--------------------\n"
     ]
    }
   ],
   "source": [
    "response = retriver.invoke(\"How india got independence?\")\n",
    "for res in response:\n",
    "    print(res.page_content)\n",
    "    print(\"-\"*20)"
   ]
  },
  {
   "cell_type": "code",
   "execution_count": 143,
   "id": "4d976a72",
   "metadata": {},
   "outputs": [
    {
     "data": {
      "text/plain": [
       "[Document(metadata={'team': 'Royal Challengers Bangalore'}, page_content='Virat Kohli is one of the most successful and consistent batsmen in IPL history. Known for his aggressive batting style and fitness, he has led the Royal Challengers Bangalore in multiple seasons.'),\n",
       " Document(metadata={'team': 'Mumbai Indians'}, page_content=\"Rohit Sharma is the most successful captain in IPL history, leading Mumbai Indians to five titles. He's known for his calm demeanor and ability to play big innings under pressure.\"),\n",
       " Document(metadata={'team': 'Chennai Super Kings'}, page_content='MS Dhoni, famously known as Captain Cool, has led Chennai Super Kings to multiple IPL titles. His finishing skills, wicketkeeping, and leadership are legendary.'),\n",
       " Document(metadata={'team': 'Mumbai Indians'}, page_content='Jasprit Bumrah is considered one of the best fast bowlers in T20 cricket. Playing for Mumbai Indians, he is known for his yorkers and death-over expertise.'),\n",
       " Document(metadata={'team': 'Chennai Super Kings'}, page_content='Ravindra Jadeja is a dynamic all-rounder who contributes with both bat and ball. Representing Chennai Super Kings, his quick fielding and match-winning performances make him a key player.')]"
      ]
     },
     "execution_count": 143,
     "metadata": {},
     "output_type": "execute_result"
    }
   ],
   "source": [
    "docs"
   ]
  },
  {
   "cell_type": "code",
   "execution_count": 145,
   "id": "e6c3358a",
   "metadata": {},
   "outputs": [],
   "source": [
    "vector_store = Chroma.from_documents(docs,embedding=embeds,collection_name=\"cricketplayers2\")"
   ]
  },
  {
   "cell_type": "code",
   "execution_count": 146,
   "id": "59099abe",
   "metadata": {},
   "outputs": [
    {
     "data": {
      "text/plain": [
       "[Document(metadata={'team': 'Chennai Super Kings'}, page_content='MS Dhoni, famously known as Captain Cool, has led Chennai Super Kings to multiple IPL titles. His finishing skills, wicketkeeping, and leadership are legendary.'),\n",
       " Document(metadata={'team': 'Mumbai Indians'}, page_content=\"Rohit Sharma is the most successful captain in IPL history, leading Mumbai Indians to five titles. He's known for his calm demeanor and ability to play big innings under pressure.\")]"
      ]
     },
     "execution_count": 146,
     "metadata": {},
     "output_type": "execute_result"
    }
   ],
   "source": [
    "retriver = vector_store.as_retriever(search_kwargs={\"k\":2})\n",
    "retriver.invoke(\"Tell me about Dhoni\")"
   ]
  },
  {
   "cell_type": "markdown",
   "id": "1824f946",
   "metadata": {},
   "source": [
    "Both vectorstore and retriver are doing same job here searching based on embeddings. But with retrivers we can specify multiple search criterias."
   ]
  },
  {
   "cell_type": "markdown",
   "id": "5e15fc16",
   "metadata": {},
   "source": [
    "### Maximum Marginal Relavance\n",
    "It is informational retrival algorithm to reduce redundancy in the retrived documents while maintaing high relavance to query.\n",
    "\n",
    "Its not about how documents are relavant, it will ensure returned documents have wide varity while maintaing relavance to query\n",
    "It will ensure to get diverse results."
   ]
  },
  {
   "cell_type": "code",
   "execution_count": 147,
   "id": "8d88f416",
   "metadata": {},
   "outputs": [],
   "source": [
    "# Sample documents\n",
    "docs = [\n",
    "    Document(page_content=\"LangChain makes it easy to work with LLMs.\"),\n",
    "    Document(page_content=\"LangChain is used to build LLM based applications.\"),\n",
    "    Document(page_content=\"Chroma is used to store and search document embeddings.\"),\n",
    "    Document(page_content=\"Embeddings are vector representations of text.\"),\n",
    "    Document(page_content=\"MMR helps you get diverse results when doing similarity search.\"),\n",
    "    Document(page_content=\"LangChain supports Chroma, FAISS, Pinecone, and more.\"),\n",
    "]"
   ]
  },
  {
   "cell_type": "code",
   "execution_count": 148,
   "id": "63acbc1a",
   "metadata": {},
   "outputs": [],
   "source": [
    "store = Chroma.from_documents(docs,embedding=embeds,collection_name='rag_notes')"
   ]
  },
  {
   "cell_type": "code",
   "execution_count": 149,
   "id": "03fcb347",
   "metadata": {},
   "outputs": [
    {
     "data": {
      "text/plain": [
       "[Document(metadata={}, page_content='LangChain supports Chroma, FAISS, Pinecone, and more.'),\n",
       " Document(metadata={}, page_content='LangChain is used to build LLM based applications.'),\n",
       " Document(metadata={}, page_content='LangChain makes it easy to work with LLMs.')]"
      ]
     },
     "execution_count": 149,
     "metadata": {},
     "output_type": "execute_result"
    }
   ],
   "source": [
    "retriever = store.as_retriever(\n",
    "    search_type=\"mmr\",                   # <-- This enables MMR\n",
    "    search_kwargs={\"k\": 3, \"lambda_mult\": 1}  # k = top results, lambda_mult = relevance-diversity balance(if 1 it is like similarity search, if 0 it will bring diverse documents)\n",
    ")\n",
    "retriever.invoke(\"tell me about langchain?\")"
   ]
  },
  {
   "cell_type": "code",
   "execution_count": 150,
   "id": "d191d734",
   "metadata": {},
   "outputs": [
    {
     "data": {
      "text/plain": [
       "[Document(metadata={}, page_content='LangChain supports Chroma, FAISS, Pinecone, and more.'),\n",
       " Document(metadata={}, page_content='LangChain is used to build LLM based applications.'),\n",
       " Document(metadata={}, page_content='Embeddings are vector representations of text.')]"
      ]
     },
     "execution_count": 150,
     "metadata": {},
     "output_type": "execute_result"
    }
   ],
   "source": [
    "# MMR\n",
    "retriever = store.as_retriever(\n",
    "    search_type=\"mmr\",                   # <-- This enables MMR\n",
    "    search_kwargs={\"k\": 3, \"lambda_mult\": 0.5}  # k = top results, lambda_mult = relevance-diversity balance(if 1 it is like similarity search, if 0 it will bring diverse documents)\n",
    ")\n",
    "retriever.invoke(\"tell me about langchain?\")"
   ]
  },
  {
   "cell_type": "code",
   "execution_count": 151,
   "id": "2aac9f51",
   "metadata": {},
   "outputs": [
    {
     "data": {
      "text/plain": [
       "[Document(metadata={}, page_content='LangChain supports Chroma, FAISS, Pinecone, and more.'),\n",
       " Document(metadata={}, page_content='Embeddings are vector representations of text.'),\n",
       " Document(metadata={}, page_content='MMR helps you get diverse results when doing similarity search.')]"
      ]
     },
     "execution_count": 151,
     "metadata": {},
     "output_type": "execute_result"
    }
   ],
   "source": [
    "# MMR\n",
    "retriever = store.as_retriever(\n",
    "    search_type=\"mmr\",                   # <-- This enables MMR\n",
    "    search_kwargs={\"k\": 3, \"lambda_mult\": 0}  # k = top results, lambda_mult = relevance-diversity balance(if 1 it is like similarity search, if 0 it will bring diverse documents)\n",
    ")\n",
    "retriever.invoke(\"tell me about langchain?\")"
   ]
  },
  {
   "cell_type": "markdown",
   "id": "a3885dec",
   "metadata": {},
   "source": [
    "### Multi Query Retrival\n",
    "Sometimes a single query might not capture all relavent information.\n",
    "\n",
    "example query:- How can i stay healthy?\n",
    "\n",
    "This query should fetch results of below queries\n",
    "\n",
    "1) What should i eat?\n",
    "\n",
    "2) How often i should excercise?\n",
    "\n",
    "3) How can i manage stress?"
   ]
  },
  {
   "attachments": {
    "image.png": {
     "image/png": "[encoded data removed]"
    }
   },
   "cell_type": "markdown",
   "id": "eb71c88d",
   "metadata": {},
   "source": [
    "![image.png](attachment:image.png)"
   ]
  },
  {
   "cell_type": "code",
   "execution_count": 152,
   "id": "5fc6cd5a",
   "metadata": {},
   "outputs": [],
   "source": [
    "from langchain.retrievers.multi_query import MultiQueryRetriever"
   ]
  },
  {
   "cell_type": "code",
   "execution_count": 153,
   "id": "50c701a0",
   "metadata": {},
   "outputs": [],
   "source": [
    "# Relevant health & wellness documents\n",
    "all_docs = [\n",
    "    Document(page_content=\"Regular walking boosts heart health and can reduce symptoms of depression.\", metadata={\"source\": \"H1\"}),\n",
    "    Document(page_content=\"Consuming leafy greens and fruits helps detox the body and improve longevity.\", metadata={\"source\": \"H2\"}),\n",
    "    Document(page_content=\"Deep sleep is crucial for cellular repair and emotional regulation.\", metadata={\"source\": \"H3\"}),\n",
    "    Document(page_content=\"Mindfulness and controlled breathing lower cortisol and improve mental clarity.\", metadata={\"source\": \"H4\"}),\n",
    "    Document(page_content=\"Drinking sufficient water throughout the day helps maintain metabolism and energy.\", metadata={\"source\": \"H5\"}),\n",
    "    Document(page_content=\"The solar energy system in modern homes helps balance electricity demand.\", metadata={\"source\": \"I1\"}),\n",
    "    Document(page_content=\"Python balances readability with power, making it a popular system design language.\", metadata={\"source\": \"I2\"}),\n",
    "    Document(page_content=\"Photosynthesis enables plants to produce energy by converting sunlight.\", metadata={\"source\": \"I3\"}),\n",
    "    Document(page_content=\"The 2022 FIFA World Cup was held in Qatar and drew global energy and excitement.\", metadata={\"source\": \"I4\"}),\n",
    "    Document(page_content=\"Black holes bend spacetime and store immense gravitational energy.\", metadata={\"source\": \"I5\"}),\n",
    "]"
   ]
  },
  {
   "cell_type": "code",
   "execution_count": 154,
   "id": "6ae5c169",
   "metadata": {},
   "outputs": [],
   "source": [
    "store = Chroma.from_documents(all_docs,embedding=embeds,collection_name='generic')\n",
    "ret = store.as_retriever(search_type=\"similarity\",search_kwargs={\"k\":4})\n",
    "mul_ret = MultiQueryRetriever.from_llm(\n",
    "    retriever=store.as_retriever(search_kwargs={\"k\":1}),\n",
    "    llm = llm\n",
    ")"
   ]
  },
  {
   "cell_type": "code",
   "execution_count": 155,
   "id": "ad21ffd7",
   "metadata": {},
   "outputs": [
    {
     "data": {
      "text/plain": [
       "[Document(metadata={'source': 'H5'}, page_content='Drinking sufficient water throughout the day helps maintain metabolism and energy.'),\n",
       " Document(metadata={'source': 'I1'}, page_content='The solar energy system in modern homes helps balance electricity demand.'),\n",
       " Document(metadata={'source': 'H2'}, page_content='Consuming leafy greens and fruits helps detox the body and improve longevity.'),\n",
       " Document(metadata={'source': 'H4'}, page_content='Mindfulness and controlled breathing lower cortisol and improve mental clarity.')]"
      ]
     },
     "execution_count": 155,
     "metadata": {},
     "output_type": "execute_result"
    }
   ],
   "source": [
    "q = \"How to improve energy levels and maintain balance?\"\n",
    "ret.invoke(q)"
   ]
  },
  {
   "cell_type": "code",
   "execution_count": 156,
   "id": "e1922459",
   "metadata": {},
   "outputs": [
    {
     "data": {
      "text/plain": [
       "[Document(metadata={'source': 'I5'}, page_content='Black holes bend spacetime and store immense gravitational energy.'),\n",
       " Document(metadata={'source': 'H4'}, page_content='Mindfulness and controlled breathing lower cortisol and improve mental clarity.'),\n",
       " Document(metadata={'source': 'I1'}, page_content='The solar energy system in modern homes helps balance electricity demand.'),\n",
       " Document(metadata={'source': 'H5'}, page_content='Drinking sufficient water throughout the day helps maintain metabolism and energy.'),\n",
       " Document(metadata={'source': 'I2'}, page_content='Python balances readability with power, making it a popular system design language.')]"
      ]
     },
     "execution_count": 156,
     "metadata": {},
     "output_type": "execute_result"
    }
   ],
   "source": [
    "mul_ret.invoke(q)"
   ]
  },
  {
   "cell_type": "markdown",
   "id": "d4fb07a5",
   "metadata": {},
   "source": [
    "### Contextual Compressor Retriever\n",
    "It is advanced one , it improves retrival quality by compressing documents after retrival - keep only relavant context based on query."
   ]
  },
  {
   "cell_type": "code",
   "execution_count": 157,
   "id": "dc65eae8",
   "metadata": {},
   "outputs": [],
   "source": [
    "from langchain.retrievers.contextual_compression import ContextualCompressionRetriever"
   ]
  },
  {
   "cell_type": "code",
   "execution_count": 158,
   "id": "32d15a04",
   "metadata": {},
   "outputs": [],
   "source": [
    "from langchain.retrievers.document_compressors import LLMChainExtractor"
   ]
  },
  {
   "cell_type": "code",
   "execution_count": 159,
   "id": "daf9c59b",
   "metadata": {},
   "outputs": [],
   "source": [
    "# Recreate the document objects from the previous data\n",
    "docs = [\n",
    "    Document(page_content=(\n",
    "        \"\"\"The Grand Canyon is one of the most visited natural wonders in the world.\n",
    "        Photosynthesis is the process by which green plants convert sunlight into energy.\n",
    "        Millions of tourists travel to see it every year. The rocks date back millions of years.\"\"\"\n",
    "    ), metadata={\"source\": \"Doc1\"}),\n",
    "\n",
    "    Document(page_content=(\n",
    "        \"\"\"In medieval Europe, castles were built primarily for defense.\n",
    "        The chlorophyll in plant cells captures sunlight during photosynthesis.\n",
    "        Knights wore armor made of metal. Siege weapons were often used to breach castle walls.\"\"\"\n",
    "    ), metadata={\"source\": \"Doc2\"}),\n",
    "\n",
    "    Document(page_content=(\n",
    "        \"\"\"Basketball was invented by Dr. James Naismith in the late 19th century.\n",
    "        It was originally played with a soccer ball and peach baskets. NBA is now a global league.\"\"\"\n",
    "    ), metadata={\"source\": \"Doc3\"}),\n",
    "\n",
    "    Document(page_content=(\n",
    "        \"\"\"The history of cinema began in the late 1800s. Silent films were the earliest form.\n",
    "        Thomas Edison was among the pioneers. Photosynthesis does not occur in animal cells.\n",
    "        Modern filmmaking involves complex CGI and sound design.\"\"\"\n",
    "    ), metadata={\"source\": \"Doc4\"})\n",
    "]"
   ]
  },
  {
   "cell_type": "code",
   "execution_count": 160,
   "id": "484e1f8a",
   "metadata": {},
   "outputs": [],
   "source": [
    "store = Chroma.from_documents(docs,embedding=embeds,collection_name=\"ccr_data\")"
   ]
  },
  {
   "cell_type": "code",
   "execution_count": 161,
   "id": "73c959b5",
   "metadata": {},
   "outputs": [],
   "source": [
    "base_retriever = store.as_retriever(search_kwargs={\"k\": 5})\n",
    "compressor = LLMChainExtractor.from_llm(llm)"
   ]
  },
  {
   "cell_type": "code",
   "execution_count": 162,
   "id": "c0dce7d9",
   "metadata": {},
   "outputs": [],
   "source": [
    "# Create the contextual compression retriever\n",
    "compression_retriever = ContextualCompressionRetriever(\n",
    "    base_retriever=base_retriever,\n",
    "    base_compressor=compressor\n",
    ")"
   ]
  },
  {
   "cell_type": "code",
   "execution_count": 163,
   "id": "90490eaa",
   "metadata": {},
   "outputs": [
    {
     "data": {
      "text/plain": [
       "[Document(metadata={'source': 'Doc1'}, page_content='Photosynthesis is the process by which green plants convert sunlight into energy.'),\n",
       " Document(metadata={'source': 'Doc2'}, page_content='The extracted relevant part of the context is:\\n\\nThe chlorophyll in plant cells captures sunlight during photosynthesis.')]"
      ]
     },
     "execution_count": 163,
     "metadata": {},
     "output_type": "execute_result"
    }
   ],
   "source": [
    "# Query the retriever\n",
    "query = \"What is photosynthesis?\"\n",
    "compression_retriever.invoke(query)"
   ]
  },
  {
   "cell_type": "markdown",
   "id": "e75796d6",
   "metadata": {},
   "source": [
    "# RAG"
   ]
  },
  {
   "cell_type": "markdown",
   "id": "e930c412",
   "metadata": {},
   "source": [
    "\n",
    "**Definition**: RAG (Retrieval-Augmented Generation) is a method to enhance large language models (LLMs) by providing external context at query time, improving response accuracy.\n",
    "\n",
    "**Significance**: RAG is one of the most common and useful applications in generative AI, addressing limitations of LLMs.\n",
    "\n",
    "### Why is RAG Needed?\n",
    "**LLM Basics:**\n",
    "LLMs are transformer-based neural networks with billions of parameters (weights and biases).\n",
    "\n",
    "They are pre-trained on massive datasets, storing knowledge as parametric knowledge in their parameters.\n",
    "\n",
    "Larger models (e.g., 70B parameters) have more parametric knowledge than smaller ones (e.g., 7B).\n",
    "\n",
    "Users access this knowledge by sending prompts, and LLMs generate responses word-by-word based on parametric knowledge.\n",
    "\n",
    "**Limitations of LLMs:**\n",
    "Private Data: LLMs cannot answer questions about private data (e.g., content from a specific website like learnwpsx.in) because it wasn’t included in their pre-training data.\n",
    "Example: Asking ChatGPT about a specific video’s content on a private platform yields no answer.\n",
    "\n",
    "Recent Data: LLMs have a knowledge cutoff date (e.g., January 1st). They cannot provide answers about events or data after this date unless connected to the internet (like ChatGPT).\n",
    "Example: Asking about today’s news results in outdated or no response.\n",
    "\n",
    "Hallucination: LLMs sometimes generate factually incorrect information confidently, a phenomenon called hallucination.\n",
    "Example: An LLM might claim Einstein played football for Germany, which is entirely made-up.\n",
    "\n",
    "**Solution 1: Fine-Tuning**\n",
    "What is Fine-Tuning?\n",
    "Fine-tuning involves retraining a pre-trained LLM on a smaller, domain-specific dataset to enhance its knowledge for specific tasks.\n",
    "\n",
    "Analogy: A student with an engineering degree undergoes 2-3 months of company-specific training to learn job-specific skills. Similarly, fine-tuning trains LLMs for domain-specific tasks.\n",
    "\n",
    "Example: Training an LLM on medical data to improve its ability to answer medical questions.\n",
    "\n",
    "Types of Fine-Tuning:\n",
    "Supervised Fine-Tuning:\n",
    "Uses labeled datasets with prompt-output pairs (e.g., question-answer pairs).\n",
    "\n",
    "The model learns to respond correctly to specific prompts.\n",
    "\n",
    "Continued Pre-Training:\n",
    "An unsupervised method where the model is trained on domain-specific data (e.g., lecture transcripts) without labels, similar to pre-training but on a smaller scale.\n",
    "\n",
    "RLHF (Reinforcement Learning with Human Feedback):\n",
    "Combines reinforcement learning and human feedback to teach the model how to behave in real-world scenarios.\n",
    "\n",
    "LoRA/QLora: Parameter-efficient fine-tuning methods that freeze base weights and train only specific weights.\n",
    "\n",
    "Fine-Tuning Process (Supervised):\n",
    "Data Collection: Gather domain-specific labeled data (prompts and desired outputs).\n",
    "\n",
    "Method Selection: Choose between full-parameter fine-tuning or parameter-efficient methods like LoRA.\n",
    "\n",
    "Training: Train the model for a few epochs (computationally expensive).\n",
    "\n",
    "Evaluation: Assess the model’s performance using metrics like exact match, factual accuracy, or hallucination rate.\n",
    "\n",
    "How Fine-Tuning Solves the Three Problems:\n",
    "Private Data: Training on private data adds it to the model’s parametric knowledge, enabling answers to private data queries.\n",
    "\n",
    "Recent Data: Frequent fine-tuning with updated data ensures the model stays current, though this is computationally costly.\n",
    "\n",
    "Hallucination: Training with examples of tricky prompts teaches the model to stick to facts or say “I don’t know,” reducing hallucinations.\n",
    "\n",
    "**Problems with Fine-Tuning:**\n",
    "Computationally Expensive: Training large models requires significant resources.\n",
    "\n",
    "Technical Expertise: Requires skilled AI engineers or data scientists.\n",
    "\n",
    "Frequent Updates: New or removed data (e.g., updated course catalogs) requires repeated fine-tuning, which is costly and complex.\n",
    "\n",
    "Unsuitable for Dynamic Domains: In domains with rapidly changing data, fine-tuning becomes impractical.\n",
    "\n",
    "**Solution 2: In-Context Learning**\n",
    "Definition: In-context learning is an emergent property of large LLMs (e.g., GPT-3, Claude, LLaMA) where the model learns to solve tasks by seeing examples in the prompt without updating its weights.\n",
    "\n",
    "Emergent Property: This ability was not explicitly programmed but appeared as LLMs scaled up in size and complexity (e.g., GPT-3 with 175B parameters).\n",
    "\n",
    "Historical Context:\n",
    "Early models (GPT-1, GPT-2) lacked in-context learning.\n",
    "\n",
    "GPT-3 introduced this capability, as observed in the landmark paper “Language Models are Few-Shot Learners” (2020).\n",
    "\n",
    "The paper highlighted that LLMs can learn tasks from a few examples, unlike humans who naturally excel at this.\n",
    "\n",
    "How It Works:\n",
    "Few-Shot Prompting: Provide examples in the prompt to teach the model how to perform a task.\n",
    "\n",
    "Example (Sentiment Analysis):\n",
    "Prompt: “Below are examples of text labeled with sentiment. Use them to determine the sentiment of the final text.”\n",
    "Text 1: “I love this phone. It’s so smooth.” → Positive\n",
    "\n",
    "Text 2: “This app crashes a lot.” → Negative\n",
    "\n",
    "Text 3: “The camera is amazing.” → Positive\n",
    "\n",
    "Final Text: “I hate the battery life.” → Model predicts: Negative\n",
    "\n",
    "The model learns from examples and applies the learning to new inputs.\n",
    "\n",
    "Other tasks: Named Entity Recognition, math problem-solving, or domain-specific tasks.\n",
    "\n",
    "Enhancing In-Context Learning:\n",
    "Instead of examples, provide the full context relevant to the query.\n",
    "\n",
    "Example: For a lecture on linear regression, if a student asks about gradient descent, include the transcript segment (e.g., minutes 5-25) where gradient descent is explained.\n",
    "\n",
    "This context-enhanced approach is RAG (Retrieval-Augmented Generation).\n",
    "\n",
    "What is RAG? (Detailed Explanation)\n",
    "Definition: RAG combines information retrieval (finding relevant data) and text generation (using LLMs to generate responses) to make LLMs smarter by providing external context at query time.\n",
    "\n",
    "Key Idea: Inject external knowledge (context) into the prompt alongside the user’s query to enhance the LLM’s parametric knowledge.\n",
    "\n",
    "Example Prompt:\n",
    "“You are a helpful assistant. Answer the question only from the provided context [e.g., gradient descent transcript]. If the context is insufficient, say ‘I don’t know’ to avoid hallucination.”\n",
    "\n",
    "Context: [Transcript of lecture segment]\n",
    "\n",
    "Question: [User’s query about gradient descent]\n",
    "\n",
    "**How RAG Works **(Four-Step Process)\n",
    "**Indexing**:\n",
    "Purpose: Create an external knowledge base to derive context for prompts.\n",
    "\n",
    "Sub-Steps:\n",
    "Document Ingestion:\n",
    "Load source data (e.g., video transcripts, company documents) into memory.\n",
    "\n",
    "Tools: LangChain’s document loaders (e.g., PDF loader, YouTube loader).\n",
    "\n",
    "Text Chunking:\n",
    "Split large documents into smaller, semantically meaningful chunks.\n",
    "\n",
    "Reason: LLMs have token limits, and semantic search performs better on smaller chunks.\n",
    "\n",
    "Tools: LangChain’s text splitters (e.g., Recursive Character Text Splitter, Semantic Chunker).\n",
    "\n",
    "Embedding Generation:\n",
    "Convert each chunk into dense vectors (embeddings) capturing semantic meaning.\n",
    "\n",
    "Tools: Embedding models (e.g., OpenAI embeddings, Sentence Transformers).\n",
    "\n",
    "Vector Storage:\n",
    "Store embeddings and corresponding text chunks in a vector database.\n",
    "\n",
    "Options: Local (FAISS, Chroma) or cloud-based (Pinecone, Weaviate, Milvus).\n",
    "\n",
    "**Retrieval**:\n",
    "Purpose: Find the most relevant chunks from the knowledge base based on the user’s query.\n",
    "\n",
    "Sub-Steps:\n",
    "Generate an embedding vector for the query using the same embedding model.\n",
    "\n",
    "Perform a semantic search to find the closest vectors in the vector store.\n",
    "Techniques: Simple similarity search, MMR (Maximum Marginal Relevance), or contextual compression.\n",
    "\n",
    "Rank the retrieved vectors to identify the most relevant ones.\n",
    "\n",
    "Fetch the corresponding text chunks to use as context.\n",
    "\n",
    "Example: For a query about gradient descent, retrieve chunks discussing gradient descent (e.g., minutes 5-25 and 1:43-1:47 of a lecture).\n",
    "\n",
    "**Augmentation**:\n",
    "Purpose: Combine the user’s query and retrieved context to create a prompt.\n",
    "\n",
    "Process: Design a prompt that includes:\n",
    "Instructions (e.g., “Answer only from the provided context”).\n",
    "\n",
    "Context (retrieved text chunks).\n",
    "\n",
    "Query (user’s question).\n",
    "\n",
    "Outcome: The prompt enhances the LLM’s knowledge with external context.\n",
    "\n",
    "**Generation**:\n",
    "Purpose: Use the LLM to generate a response based on the augmented prompt.\n",
    "\n",
    "Process: The LLM combines its parametric knowledge with the provided context to produce an accurate, grounded response.\n",
    "\n",
    "**How RAG Solves the Three Problems**\n",
    "Private Data:\n",
    "The external knowledge base is built from private data (e.g., company documents, lecture transcripts).\n",
    "\n",
    "Context derived from this base ensures answers are based on private data, solving the issue.\n",
    "\n",
    "Recent Data:\n",
    "Add recent data (e.g., news articles, updates) to the knowledge base without retraining the model.\n",
    "\n",
    "Unlike fine-tuning, which requires costly retraining, RAG only needs new documents to be indexed into the vector store, making it cheaper and faster.\n",
    "\n",
    "Hallucination:\n",
    "RAG grounds responses in the provided context, reducing the likelihood of hallucination.\n",
    "\n",
    "Explicit instructions (e.g., “Say ‘I don’t know’ if context is insufficient”) ensure the model sticks to facts.\n",
    "\n"
   ]
  },
  {
   "cell_type": "code",
   "execution_count": 164,
   "id": "f4d4d65b",
   "metadata": {},
   "outputs": [
    {
     "data": {
      "text/plain": [
       "AIMessage(content='I apologize, but since IPL 2025 has not taken place yet, there is no winner or data to share. The Indian Premier League (IPL) is an annual Twenty20 cricket league held in India, and the upcoming season will be IPL 2023.', additional_kwargs={}, response_metadata={'token_usage': {'completion_tokens': 55, 'prompt_tokens': 22, 'total_tokens': 77, 'completion_time': 0.045833333, 'prompt_time': 0.003180727, 'queue_time': 0.06751272600000001, 'total_time': 0.04901406}, 'model_name': 'Llama3-8b-8192', 'system_fingerprint': 'fp_179b0f92c9', 'finish_reason': 'stop', 'logprobs': None}, id='run--7fddfb71-b65f-4ae1-9516-2b5f74c33d57-0', usage_metadata={'input_tokens': 22, 'output_tokens': 55, 'total_tokens': 77})"
      ]
     },
     "execution_count": 164,
     "metadata": {},
     "output_type": "execute_result"
    }
   ],
   "source": [
    "llm.invoke(\"Who has won more matches in this IPL 2025?\")"
   ]
  },
  {
   "cell_type": "code",
   "execution_count": null,
   "id": "1e62dd9d",
   "metadata": {},
   "outputs": [],
   "source": []
  }
 ],
 "metadata": {
  "kernelspec": {
   "display_name": ".virtualenv",
   "language": "python",
   "name": "python3"
  },
  "language_info": {
   "codemirror_mode": {
    "name": "ipython",
    "version": 3
   },
   "file_extension": ".py",
   "mimetype": "text/x-python",
   "name": "python",
   "nbconvert_exporter": "python",
   "pygments_lexer": "ipython3",
   "version": "3.12.7"
  }
 },
 "nbformat": 4,
 "nbformat_minor": 5
}
