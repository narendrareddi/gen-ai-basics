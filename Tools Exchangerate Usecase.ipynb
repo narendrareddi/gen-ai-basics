{
 "cells": [
  {
   "cell_type": "code",
   "execution_count": 1,
   "id": "1f2e281f",
   "metadata": {},
   "outputs": [],
   "source": [
    "from langchain.tools import tool\n",
    "from langchain_groq import ChatGroq\n",
    "import requests,os"
   ]
  },
  {
   "cell_type": "code",
   "execution_count": 2,
   "id": "31e0a08f",
   "metadata": {},
   "outputs": [
    {
     "data": {
      "text/plain": [
       "True"
      ]
     },
     "execution_count": 2,
     "metadata": {},
     "output_type": "execute_result"
    }
   ],
   "source": [
    "from dotenv import load_dotenv\n",
    "load_dotenv()"
   ]
  },
  {
   "cell_type": "code",
   "execution_count": 3,
   "id": "17933cda",
   "metadata": {},
   "outputs": [],
   "source": [
    "# Tool to call conversion rate API\n",
    "@tool\n",
    "def conversion_rate_api(base_currency:str,target_currency:str) -> float:\n",
    "    'This tool will get latest conversion between two currencies'\n",
    "    # API endpoint URL\n",
    "    key = os.getenv('EXCHANGERATE_API_KEY')\n",
    "    url = f'https://v6.exchangerate-api.com/v6/{key}/pair/{base_currency}/{target_currency}'\n",
    "    data = requests.get(url)\n",
    "    return data.json()['conversion_rate']"
   ]
  },
  {
   "cell_type": "code",
   "execution_count": 4,
   "id": "6b114492",
   "metadata": {},
   "outputs": [],
   "source": [
    "# Tool to multiply currency rate and amount\n",
    "from langchain_core.tools import InjectedToolArg # To say we are going to injest this at run time\n",
    "from typing import Annotated\n",
    "\n",
    "@tool\n",
    "def multiply_currency_rate_and_amount(currency_rate:float, amount:Annotated[float,InjectedToolArg]) -> float:\n",
    "    'This tool will multiply the currency rate and amount'\n",
    "    return currency_rate * amount"
   ]
  },
  {
   "cell_type": "code",
   "execution_count": 5,
   "id": "32976a78",
   "metadata": {},
   "outputs": [
    {
     "data": {
      "text/plain": [
       "84.5138"
      ]
     },
     "execution_count": 5,
     "metadata": {},
     "output_type": "execute_result"
    }
   ],
   "source": [
    "conversion_rate_api.invoke({'base_currency':'USD','target_currency':'INR'})"
   ]
  },
  {
   "cell_type": "code",
   "execution_count": 6,
   "id": "5abb4641",
   "metadata": {},
   "outputs": [
    {
     "data": {
      "text/plain": [
       "845.138"
      ]
     },
     "execution_count": 6,
     "metadata": {},
     "output_type": "execute_result"
    }
   ],
   "source": [
    "multiply_currency_rate_and_amount.invoke({'currency_rate':84.5138,'amount':10})"
   ]
  },
  {
   "cell_type": "code",
   "execution_count": 7,
   "id": "6960242f",
   "metadata": {},
   "outputs": [],
   "source": [
    "llm = ChatGroq(model = 'Llama3-8b-8192')"
   ]
  },
  {
   "cell_type": "code",
   "execution_count": 9,
   "id": "b97beb6c",
   "metadata": {},
   "outputs": [],
   "source": [
    "#binding tools with llm\n",
    "llm_with_tools = llm.bind_tools([conversion_rate_api,multiply_currency_rate_and_amount])"
   ]
  },
  {
   "cell_type": "code",
   "execution_count": 10,
   "id": "e5efba3b",
   "metadata": {},
   "outputs": [],
   "source": [
    "from langchain_core.messages import HumanMessage"
   ]
  },
  {
   "cell_type": "code",
   "execution_count": 13,
   "id": "773df843",
   "metadata": {},
   "outputs": [],
   "source": [
    "question = \"What is the conversion factor between INR and USD, and based on that can you convert 10 inr to usd\""
   ]
  },
  {
   "cell_type": "code",
   "execution_count": 24,
   "id": "6d0c5917",
   "metadata": {},
   "outputs": [
    {
     "name": "stdout",
     "output_type": "stream",
     "text": [
      "content='' additional_kwargs={'tool_calls': [{'id': 'call_y3jy', 'function': {'arguments': '{\"base_currency\":\"INR\",\"target_currency\":\"USD\"}', 'name': 'conversion_rate_api'}, 'type': 'function'}]} response_metadata={'token_usage': {'completion_tokens': 76, 'prompt_tokens': 1056, 'total_tokens': 1132, 'completion_time': 0.063333333, 'prompt_time': 0.146981218, 'queue_time': 0.08866352799999999, 'total_time': 0.210314551}, 'model_name': 'Llama3-8b-8192', 'system_fingerprint': 'fp_179b0f92c9', 'finish_reason': 'tool_calls', 'logprobs': None} id='run--cac1f99d-773c-41fe-acbe-5a389807d644-0' tool_calls=[{'name': 'conversion_rate_api', 'args': {'base_currency': 'INR', 'target_currency': 'USD'}, 'id': 'call_y3jy', 'type': 'tool_call'}] usage_metadata={'input_tokens': 1056, 'output_tokens': 76, 'total_tokens': 1132}\n"
     ]
    }
   ],
   "source": [
    "history = []\n",
    "history.append(HumanMessage(question))\n",
    "response1 = llm_with_tools.invoke(history)\n",
    "print(response1)"
   ]
  },
  {
   "cell_type": "code",
   "execution_count": 25,
   "id": "fc2a6732",
   "metadata": {},
   "outputs": [
    {
     "data": {
      "text/plain": [
       "[{'name': 'conversion_rate_api',\n",
       "  'args': {'base_currency': 'INR', 'target_currency': 'USD'},\n",
       "  'id': 'call_y3jy',\n",
       "  'type': 'tool_call'}]"
      ]
     },
     "execution_count": 25,
     "metadata": {},
     "output_type": "execute_result"
    }
   ],
   "source": [
    "history.append(response1)\n",
    "response1.tool_calls # Here we are using Llama3 using Groq, if we use better model, it will identify two tools here"
   ]
  },
  {
   "cell_type": "code",
   "execution_count": 26,
   "id": "703e1267",
   "metadata": {},
   "outputs": [],
   "source": [
    "for tol in response1.tool_calls:\n",
    "    # print(tol)\n",
    "    if tol['name'] == 'conversion_rate_api':\n",
    "        conversion_rate = conversion_rate_api.invoke(tol)\n",
    "        history.append(conversion_rate)\n",
    "    if tol['name'] == 'multiply_currency_rate_and_amount':\n",
    "        tol['args']['conversion_rate'] = conversion_rate\n",
    "        multiply_currency_rate_and_amount = multiply_currency_rate_and_amount.invoke(tol)\n",
    "        history.append(multiply_currency_rate_and_amount)\n",
    "        "
   ]
  },
  {
   "cell_type": "code",
   "execution_count": 27,
   "id": "6d712982",
   "metadata": {},
   "outputs": [
    {
     "data": {
      "text/plain": [
       "[HumanMessage(content='What is the conversion factor between INR and USD, and based on that can you convert 10 inr to usd', additional_kwargs={}, response_metadata={}),\n",
       " AIMessage(content='', additional_kwargs={'tool_calls': [{'id': 'call_y3jy', 'function': {'arguments': '{\"base_currency\":\"INR\",\"target_currency\":\"USD\"}', 'name': 'conversion_rate_api'}, 'type': 'function'}]}, response_metadata={'token_usage': {'completion_tokens': 76, 'prompt_tokens': 1056, 'total_tokens': 1132, 'completion_time': 0.063333333, 'prompt_time': 0.146981218, 'queue_time': 0.08866352799999999, 'total_time': 0.210314551}, 'model_name': 'Llama3-8b-8192', 'system_fingerprint': 'fp_179b0f92c9', 'finish_reason': 'tool_calls', 'logprobs': None}, id='run--cac1f99d-773c-41fe-acbe-5a389807d644-0', tool_calls=[{'name': 'conversion_rate_api', 'args': {'base_currency': 'INR', 'target_currency': 'USD'}, 'id': 'call_y3jy', 'type': 'tool_call'}], usage_metadata={'input_tokens': 1056, 'output_tokens': 76, 'total_tokens': 1132}),\n",
       " ToolMessage(content='0.01183', name='conversion_rate_api', tool_call_id='call_y3jy')]"
      ]
     },
     "execution_count": 27,
     "metadata": {},
     "output_type": "execute_result"
    }
   ],
   "source": [
    "history"
   ]
  },
  {
   "cell_type": "code",
   "execution_count": 29,
   "id": "dd31ba82",
   "metadata": {},
   "outputs": [
    {
     "name": "stdout",
     "output_type": "stream",
     "text": [
      "content='' additional_kwargs={'tool_calls': [{'id': 'call_wx8m', 'function': {'arguments': '{\"currency_rate\":0.01183,\"amount\":10}', 'name': 'multiply_currency_rate_and_amount'}, 'type': 'function'}]} response_metadata={'token_usage': {'completion_tokens': 44, 'prompt_tokens': 1133, 'total_tokens': 1177, 'completion_time': 0.036666667, 'prompt_time': 0.140792687, 'queue_time': 0.07349695, 'total_time': 0.177459354}, 'model_name': 'Llama3-8b-8192', 'system_fingerprint': 'fp_dadc9d6142', 'finish_reason': 'tool_calls', 'logprobs': None} id='run--6a8d3ffa-869b-4d61-a737-cfd745365691-0' tool_calls=[{'name': 'multiply_currency_rate_and_amount', 'args': {'currency_rate': 0.01183, 'amount': 10}, 'id': 'call_wx8m', 'type': 'tool_call'}] usage_metadata={'input_tokens': 1133, 'output_tokens': 44, 'total_tokens': 1177}\n"
     ]
    }
   ],
   "source": [
    "response2 = llm_with_tools.invoke(history)\n",
    "print(response2)"
   ]
  },
  {
   "cell_type": "code",
   "execution_count": 30,
   "id": "bfe10ac2",
   "metadata": {},
   "outputs": [
    {
     "data": {
      "text/plain": [
       "[{'name': 'multiply_currency_rate_and_amount',\n",
       "  'args': {'currency_rate': 0.01183, 'amount': 10},\n",
       "  'id': 'call_wx8m',\n",
       "  'type': 'tool_call'}]"
      ]
     },
     "execution_count": 30,
     "metadata": {},
     "output_type": "execute_result"
    }
   ],
   "source": [
    "response2.tool_calls"
   ]
  },
  {
   "cell_type": "code",
   "execution_count": 31,
   "id": "2296063b",
   "metadata": {},
   "outputs": [],
   "source": [
    "for tol in response2.tool_calls:\n",
    "    # print(tol)\n",
    "    if tol['name'] == 'conversion_rate_api':\n",
    "        conversion_rate = conversion_rate_api.invoke(tol)\n",
    "        history.append(conversion_rate)\n",
    "    if tol['name'] == 'multiply_currency_rate_and_amount':\n",
    "        tol['args']['conversion_rate'] = conversion_rate\n",
    "        multiply_currency_rate_and_amount = multiply_currency_rate_and_amount.invoke(tol)\n",
    "        history.append(multiply_currency_rate_and_amount)"
   ]
  },
  {
   "cell_type": "code",
   "execution_count": 32,
   "id": "e93e8aaa",
   "metadata": {},
   "outputs": [
    {
     "data": {
      "text/plain": [
       "[HumanMessage(content='What is the conversion factor between INR and USD, and based on that can you convert 10 inr to usd', additional_kwargs={}, response_metadata={}),\n",
       " AIMessage(content='', additional_kwargs={'tool_calls': [{'id': 'call_y3jy', 'function': {'arguments': '{\"base_currency\":\"INR\",\"target_currency\":\"USD\"}', 'name': 'conversion_rate_api'}, 'type': 'function'}]}, response_metadata={'token_usage': {'completion_tokens': 76, 'prompt_tokens': 1056, 'total_tokens': 1132, 'completion_time': 0.063333333, 'prompt_time': 0.146981218, 'queue_time': 0.08866352799999999, 'total_time': 0.210314551}, 'model_name': 'Llama3-8b-8192', 'system_fingerprint': 'fp_179b0f92c9', 'finish_reason': 'tool_calls', 'logprobs': None}, id='run--cac1f99d-773c-41fe-acbe-5a389807d644-0', tool_calls=[{'name': 'conversion_rate_api', 'args': {'base_currency': 'INR', 'target_currency': 'USD'}, 'id': 'call_y3jy', 'type': 'tool_call'}], usage_metadata={'input_tokens': 1056, 'output_tokens': 76, 'total_tokens': 1132}),\n",
       " ToolMessage(content='0.01183', name='conversion_rate_api', tool_call_id='call_y3jy'),\n",
       " ToolMessage(content='0.1183', name='multiply_currency_rate_and_amount', tool_call_id='call_wx8m')]"
      ]
     },
     "execution_count": 32,
     "metadata": {},
     "output_type": "execute_result"
    }
   ],
   "source": [
    "history"
   ]
  },
  {
   "cell_type": "code",
   "execution_count": 33,
   "id": "667c249a",
   "metadata": {},
   "outputs": [
    {
     "name": "stdout",
     "output_type": "stream",
     "text": [
      "content='' additional_kwargs={'tool_calls': [{'id': 'call_845j', 'function': {'arguments': '{\"currency_rate\":0.1183,\"amount\":10}', 'name': 'multiply_currency_rate_and_amount'}, 'type': 'function'}]} response_metadata={'token_usage': {'completion_tokens': 48, 'prompt_tokens': 1166, 'total_tokens': 1214, 'completion_time': 0.04, 'prompt_time': 0.146595597, 'queue_time': 0.09046796800000001, 'total_time': 0.186595597}, 'model_name': 'Llama3-8b-8192', 'system_fingerprint': 'fp_dadc9d6142', 'finish_reason': 'tool_calls', 'logprobs': None} id='run--453eb11b-e66d-4e6d-b81c-f099ab46ae5c-0' tool_calls=[{'name': 'multiply_currency_rate_and_amount', 'args': {'currency_rate': 0.1183, 'amount': 10}, 'id': 'call_845j', 'type': 'tool_call'}] usage_metadata={'input_tokens': 1166, 'output_tokens': 48, 'total_tokens': 1214}\n"
     ]
    }
   ],
   "source": [
    "response3 = llm_with_tools.invoke(history)\n",
    "print(response3)"
   ]
  },
  {
   "cell_type": "code",
   "execution_count": null,
   "id": "ac00edb2",
   "metadata": {},
   "outputs": [],
   "source": [
    "# If we use Good LLM, All tools will be identified ata first and If we pass all human,AI,tools messages, We get final output."
   ]
  }
 ],
 "metadata": {
  "kernelspec": {
   "display_name": "genai",
   "language": "python",
   "name": "python3"
  },
  "language_info": {
   "codemirror_mode": {
    "name": "ipython",
    "version": 3
   },
   "file_extension": ".py",
   "mimetype": "text/x-python",
   "name": "python",
   "nbconvert_exporter": "python",
   "pygments_lexer": "ipython3",
   "version": "3.12.9"
  }
 },
 "nbformat": 4,
 "nbformat_minor": 5
}
